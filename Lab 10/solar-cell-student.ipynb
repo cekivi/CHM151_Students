{
 "cells": [
  {
   "cell_type": "markdown",
   "metadata": {},
   "source": [
    "# Solar Cells\n",
    "This notebook will help you complete the data analysis needed for lab 9 and is split into 4 parts (A-D):\n",
    "- A: Unit conversions\n",
    "- B: Create the P vs V plot\n",
    "- C: Do a parabolic fit\n",
    "- D: Find the maximum power\n",
    "\n",
    "It is *essential* to run each of the cells ***sequentially*** and make sure to read all instructions and comments carefully. Happy coding! \n",
    "\n",
    "This notebook is also **interactive**, and as such there are lines where you must write the code yourself to complete the tasks. Sections where you must write your own code are numbered and labelled with the heading:\n",
    "\n",
    "## Task #0:\n",
    "And detailed instructions for your coding task will be written below. These tasks are **in addition** to adding appropriate filenames where indicated.\n",
    "\n",
    "There are **six** tasks in this notebook.\n",
    "\n",
    "Please make sure to read **all** of the instructions and comments **very** carefully, this is essential in making sure your code runs smoothly and error-free.\n",
    "\n",
    "***Happy Coding!***"
   ]
  },
  {
   "cell_type": "markdown",
   "metadata": {},
   "source": [
    "## Part A: Unit Conversions\n",
    "\n",
    "## Task #1\n",
    "### Save your data in an excel sheet\n",
    "\n",
    "Download the excel file named **solar_cell_data.xlsx** and enter the data you collected in the two columns:\n",
    "- Voltage\n",
    "- Resistance\n",
    "\n",
    "**Please do not change the column names. This will cause the code to not run properly.**\n",
    "\n",
    "As a reminder, uou need to:\n",
    "\n",
    "1. Download the excel file\n",
    "2. Enter your data in the respective columns\n",
    "3. Save the file\n",
    "4. Reupload the file into the same folder\n",
    "\n",
    "We will now upload the data into python and plot it."
   ]
  },
  {
   "cell_type": "code",
   "execution_count": null,
   "metadata": {},
   "outputs": [],
   "source": [
    "import pandas as pd\n",
    "\n",
    "# Reading the data from the excel file\n",
    "data = pd.read_excel('solar_cell_data.xlsx', engine='openpyxl')\n",
    "\n",
    "# Print the first few rows of the dataframe to look at the data\n",
    "print(data.head())"
   ]
  },
  {
   "cell_type": "markdown",
   "metadata": {},
   "source": [
    "### Calculate the power\n",
    "\n",
    "We'll start by saving the the voltage and resistance in separate variables so it is easier to calculate the power. Run the code block below to do this."
   ]
  },
  {
   "cell_type": "code",
   "execution_count": null,
   "metadata": {},
   "outputs": [],
   "source": [
    "# import all the modules\n",
    "import numpy as np \n",
    "\n",
    "# We'll need the voltage so we can extract that\n",
    "voltage = data[\"Voltage\"]\n",
    "\n",
    "# We also need the resistance\n",
    "resistance = data[\"Resistance\"]\n",
    "\n",
    "# Let's print these to see what they look like\n",
    "print(voltage.head())\n",
    "print(resistance.head())"
   ]
  },
  {
   "cell_type": "markdown",
   "metadata": {},
   "source": [
    "## Task #2\n",
    "\n",
    "The power can be calculated by looking at the equation for electric power and using Ohm's law to substitute the current:\n",
    "\n",
    "$$P = IV = V^2/R$$\n",
    "\n",
    "Use the variables for `voltage` and `resistance` to calculate the `power`. I've already added a variable labelled `power` in the code block below, enter your equation after the equals sign `=`. Remember the syntax and your order of operations!"
   ]
  },
  {
   "cell_type": "code",
   "execution_count": null,
   "metadata": {},
   "outputs": [],
   "source": [
    "# Calculate the power using the voltage and resistance\n",
    "# Add the equation for power after the equals sign\n",
    "power = \n",
    "\n",
    "# Print the first few rows of the power to test\n",
    "print(power.head())"
   ]
  },
  {
   "cell_type": "markdown",
   "metadata": {},
   "source": [
    "# Part B: Create the P vs V plot\n",
    "This is just a plotting step, same as the previous two labs."
   ]
  },
  {
   "cell_type": "markdown",
   "metadata": {},
   "source": [
    "## Task #3\n",
    "\n",
    "This task is in two parts:\n",
    "- Add the axis labels by replacing `X AXIS LABEL HERE` and `Y AXIS LABEL HERE` with your x and y-axis labels respectively. Make sure to add your labels *in-between the quotes*. And don't forget adding the proper units!!!\n",
    "- Replace the `x` and `y` in `plt.plot(x, y, 'o', markersize=8, label='Data')` with the correct variables for your x and y data on the graph."
   ]
  },
  {
   "cell_type": "code",
   "execution_count": null,
   "metadata": {},
   "outputs": [],
   "source": [
    "# We need matplotlib for plotting the data\n",
    "import matplotlib.pyplot as plt\n",
    "\n",
    "# Create the plot canvas\n",
    "plt.figure(figsize=(8, 6))\n",
    "\n",
    "# Set the size of the ticks\n",
    "plt.tick_params(labelsize=14)\n",
    "\n",
    "# Label the axes\n",
    "# Replace 'X AXIS LABEL HERE' and 'Y AXIS LABEL HERE' with the correct labels\n",
    "# Include add your label in-between quotation marks\n",
    "# Also remember to include the units!\n",
    "plt.xlabel('X AXIS LABEL HERE', fontsize=16)\n",
    "plt.ylabel('Y AXIS LABEL HERE', fontsize=16)\n",
    "\n",
    "# Now to plot as a scatter plot\n",
    "# Replace 'x' and 'y' with the correct variables\n",
    "plt.plot(x, y, 'o', markersize=8, label='Data')\n",
    "\n",
    "# Showing the plot\n",
    "plt.tight_layout()\n",
    "plt.show()"
   ]
  },
  {
   "cell_type": "markdown",
   "metadata": {},
   "source": [
    "## Part C: Do a parabolic fit\n",
    "\n",
    "#### Using lmfit\n",
    "You'll notice that this is a *non-linear* fit, particularly a quadratic fit:\n",
    "\n",
    "$$y = ax^2 + bx + c$$\n",
    "\n",
    "Therefore, just like the Michaelis-Menten equation, we will be using lmfit to do the fitting."
   ]
  },
  {
   "cell_type": "code",
   "execution_count": null,
   "metadata": {},
   "outputs": [],
   "source": [
    "# Here we are importing the lmfit module we need\n",
    "!pip install lmfit\n",
    "from lmfit.models import Model\n",
    "\n",
    "# Now to define the polynomial\n",
    "# The inputs are the x values, and the coefficients a, b, and c\n",
    "# The output is the y values from the polynomial\n",
    "def polynomial(x, a, b, c):\n",
    "    # here we are calculating y = ax^2 + bx + c\n",
    "    y = a*x**2 + b*x + c\n",
    "    # return the y values\n",
    "    return y"
   ]
  },
  {
   "cell_type": "markdown",
   "metadata": {},
   "source": [
    "## Task #4\n",
    "Replace the `INDEPENDENT VARIABLE HERE` with the correct independent variable in the experiment. This is a little tricky, I'm not asking for the independent variable from your experimental data, but rather what it's defined as in the `polynomial` function above.\n",
    "\n",
    "In other words, from the options below, which one is the independent variable for the polynomial fit equation?\n",
    "- x\n",
    "- a\n",
    "- b\n",
    "- c\n",
    "\n",
    "When you have the correct option, replace the text in between the quotes.\n",
    "\n",
    "So for example, if I think 'a' is the independent variable, my argument would read `independent_vars='a'`"
   ]
  },
  {
   "cell_type": "code",
   "execution_count": null,
   "metadata": {},
   "outputs": [],
   "source": [
    "# Now to create the model and store it as a variable\n",
    "# Replace 'INDEPENDENT VARIABLE HERE' with the correct variable\n",
    "# Keep the quotation marks!!!\n",
    "polyfit = Model(polynomial, independent_vars=\"INDEPENDENT VARIABLE HERE\")\n",
    "\n",
    "# Some initial guesses on the coefficeints: these do not have to be correct\n",
    "coeff = polyfit.make_params(a=1, b=1, c=1)"
   ]
  },
  {
   "cell_type": "markdown",
   "metadata": {},
   "source": [
    "#### Fit the data!\n",
    "Same as the previous lab, we will fit the data and print out the $r^2$ value to check the goodness-of-fit."
   ]
  },
  {
   "cell_type": "code",
   "execution_count": null,
   "metadata": {},
   "outputs": [],
   "source": [
    "# Now to fit the data\n",
    "result = polyfit.fit(data=power, x=voltage, params=coeff, method='leastsq', nan_policy='propagate', scale_covar=True)\n",
    "\n",
    "# get the fitted coefficients\n",
    "a_fit = result.params['a'].value\n",
    "b_fit = result.params['b'].value\n",
    "c_fit = result.params['c'].value\n",
    "\n",
    "# And their errors\n",
    "a_err, b_err, c_err = np.sqrt(np.diag(result.covar))\n",
    "\n",
    "# Calculate the rsquared value\n",
    "r_squared = 1 - result.residual.var() / np.var(power)\n",
    "\n",
    "# Print the rsquared value\n",
    "print(f'r^2 = {r_squared}')"
   ]
  },
  {
   "cell_type": "markdown",
   "metadata": {},
   "source": [
    "#### Find the fitted x and y-values for plotting\n",
    "\n",
    "Again, we'll generate the fitted y-values to extrapolate our fit so we can visualize the goodness-of-fit."
   ]
  },
  {
   "cell_type": "code",
   "execution_count": null,
   "metadata": {},
   "outputs": [],
   "source": [
    "# First we want to create a smooth curve to represent the fit\n",
    "# So we need to create a range of x values to plot the fit\n",
    "# This will range from the minimum voltage to the maximum voltage + 20V\n",
    "voltage_fit = np.linspace(voltage.min(), voltage.max()+20, 1000)\n",
    "\n",
    "# Now to calculate the associated power values using the fitted coefficients\n",
    "power_fit = polynomial(x=voltage_fit, a=a_fit, b=b_fit, c=c_fit)"
   ]
  },
  {
   "cell_type": "markdown",
   "metadata": {},
   "source": [
    "### Plotting experimental & fitted data"
   ]
  },
  {
   "cell_type": "markdown",
   "metadata": {},
   "source": [
    "## Task #5\n",
    "There are three parts to this task:\n",
    "- Same as in Task #2, add the x and y-axis labels by replacing the `X/Y AXIS LABEL HERE` inside the quotes and add your units\n",
    "- For the *Experimental Data*: replace the `x` and `y` with the appropriate variable names for plotting\n",
    "- For the *Fitted Data*: replace the `x` and `y` with the appropriate variable names for plotting"
   ]
  },
  {
   "cell_type": "code",
   "execution_count": null,
   "metadata": {},
   "outputs": [],
   "source": [
    "\n",
    "# create the plot canvas\n",
    "plt.figure(figsize=(8, 6))\n",
    "\n",
    "# set the size of the ticks\n",
    "plt.tick_params(labelsize=14)\n",
    "\n",
    "# Label the axes\n",
    "# Replace 'X AXIS LABEL HERE' and 'Y AXIS LABEL HERE' with the correct labels\n",
    "# Include add your label in-between quotation marks\n",
    "# Also remember to include the units!\n",
    "plt.xlabel(\"X AXIS LABEL HERE\", fontsize=16)\n",
    "plt.ylabel(\"Y AXIS LABEL HERE\", fontsize=16)\n",
    "\n",
    "# Plotting our specific data\n",
    "\n",
    "# Plotting the experimental data as a scatter plot\n",
    "# The \"o\" argument tells matplotlib to plot the data points as circles\n",
    "# The markersize argument changes the size of the circles\n",
    "# The label argument is used to create a legend\n",
    "# The color argument changes the color of the data points\n",
    "\n",
    "# Replace the \"x\" and \"y\" with the correct variables: remember, variable names are not in quotes\n",
    "plt.plot(x, y, \"o\", markersize=8, label=\"Experimental Data\", color=\"red\")\n",
    "\n",
    "# Now we do the same for the fitted data but as a line\n",
    "# The \"-\" argument tells matplotlib to plot the data points as a line\n",
    "# everything else is the same, we do not need a markersize for a line\n",
    "\n",
    "# Replace the \"x\" and \"y\" with the correct variables: remember, variable names are not in quotes\n",
    "plt.plot(x, y, \"-\", label=f\"Fitted Data\\n$R^2$={r_squared:0.3g}\", color=\"black\")\n",
    "\n",
    "# Now we add the legend\n",
    "plt.legend(fontsize=16)\n",
    "\n",
    "# This makes sure that the plot is formatted correctly\n",
    "plt.tight_layout()\n",
    "\n",
    "plt.show()"
   ]
  },
  {
   "cell_type": "markdown",
   "metadata": {},
   "source": [
    "## Part D: Finding the Maximum Output\n",
    "\n",
    "Now we have to find the maximum output using some algebra. First we need to find the vertex, or turning point, $h$:\n",
    "\n",
    "$$h = -\\frac{b}{2a}$$\n",
    "\n",
    "This formula was found by solving for $x$ when $\\frac{\\mathrm{d}y}{\\mathrm{d}x} = 0$.\n",
    "\n",
    "Then we need to find $f(h)$, so the y-value at h. This can be done easily using the function that we defined above!"
   ]
  },
  {
   "cell_type": "markdown",
   "metadata": {},
   "source": [
    "## Task #6\n",
    "Write down the code to properly calculate `h`, the vertex, using the formula defined above. Fill in the code after `h=`\n",
    "\n",
    "Remember, the `a` and `b` you need should be the *fitted parameters* a.k.a. `b_fit` and `a_fit`. Make sure to also add the correct parentheses and negative sign(s)!!"
   ]
  },
  {
   "cell_type": "code",
   "execution_count": null,
   "metadata": {},
   "outputs": [],
   "source": [
    "# Finding the vertex of the parabola using the formula above\n",
    "# Fill in the formula after the equals sign to find the vertex\n",
    "# Make sure to use the correct variable names: a_fit, b_fit, c_fit\n",
    "# And remember your order of operations!\n",
    "h =\n",
    "\n",
    "# now to find the maximum power which is the y value at the vertex\n",
    "# so instead of the whole voltage array we just use \"h\"\n",
    "max_power = polynomial(x=h, a=a_fit, b=b_fit, c=c_fit)\n",
    "\n",
    "# now to print the results with some fancy syntax\n",
    "print(f'The maximum power is {max_power:.2f} μW at {h:.2f} mV')"
   ]
  },
  {
   "cell_type": "markdown",
   "metadata": {},
   "source": [
    "Check that this makes sense according to your graph!"
   ]
  }
 ],
 "metadata": {
  "kernelspec": {
   "display_name": "Python 3",
   "language": "python",
   "name": "python3"
  },
  "language_info": {
   "codemirror_mode": {
    "name": "ipython",
    "version": 3
   },
   "file_extension": ".py",
   "mimetype": "text/x-python",
   "name": "python",
   "nbconvert_exporter": "python",
   "pygments_lexer": "ipython3",
   "version": "3.12.1"
  }
 },
 "nbformat": 4,
 "nbformat_minor": 2
}
