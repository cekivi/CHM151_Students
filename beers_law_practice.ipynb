{
 "cells": [
  {
   "cell_type": "markdown",
   "metadata": {},
   "source": [
    "# Practice Data Analysis on Python\n"
   ]
  },
  {
   "cell_type": "markdown",
   "metadata": {},
   "source": [
    "Welcome to using Python for data science! This tutorial is designed to help you get used to doing data analysis on python. The format of this tutorial is the same as how your coding assignments/modules will be formatted.\n",
    "This notebook will grabs data from simulated UV-VIS absorbance spectrums of a dye molecule with different concentrations. You will calculate the molar absorption coefficient of the dye. \n",
    "\n",
    "This notebook is split into 3 parts:\n",
    "- A. Plot the dye spectra\n",
    "- B. Find the peak absorbance\n",
    "- C. Calculate the absorbance coefficient and generate a Beer's law plot.\n",
    "\n",
    "This notebook is also **interactive**, and as such there are lines where you must write the code yourself to complete the tasks. Sections where you must write your own code are numbered and labelled with the heading:\n",
    "\n",
    "## Task #0:\n",
    "\n",
    "And detailed instructions for your coding task will be written below. These tasks are **in addition** to adding appropriate filenames where indicated.\n",
    "\n",
    "There are **eight** tasks in total in this notebook.\n",
    "\n",
    "Please make sure to read **all** of the instructions and comments **very** carefully, this is essential in making sure your code runs smoothly and error-free.\n",
    "\n",
    "***Happy coding!***"
   ]
  },
  {
   "cell_type": "markdown",
   "metadata": {},
   "source": [
    "Welcome to using Python for data science! This tutorial is designed to help you get used to doing data analysis on python. The format of this tutorial is the same as how your coding assignments/modules will be formatted.\n",
    "This notebook will grabs data from simulated UV-VIS absorbance spectrums of a dye molecule with different concentrations. You will calculate the molar absorption coefficient of the dye. \n",
    "\n",
    "This notebook is split into 3 parts:\n",
    "- A. Plot the dye spectra\n",
    "- B. Find the peak absorbance\n",
    "- C. Calculate the absorbance coefficient and generate a Beer's law plot.\n",
    "\n",
    "This notebook is also **interactive**, and as such there are lines where you must write the code yourself to complete the tasks. Sections where you must write your own code are numbered and labelled with the heading:\n",
    "\n",
    "## Task #0:\n",
    "\n",
    "And detailed instructions for your coding task will be written below. These tasks are **in addition** to adding appropriate filenames where indicated.\n",
    "\n",
    "There are **eight** tasks in total in this notebook.\n",
    "\n",
    "Please make sure to read **all** of the instructions and comments **very** carefully, this is essential in making sure your code runs smoothly and error-free.\n",
    "\n",
    "***Happy coding!***"
   ]
  },
  {
   "cell_type": "markdown",
   "metadata": {},
   "source": [
    "## Part A: Plot the dye spectra\n",
    "\n",
    "You will notice that there is an excel file in this folder labelled \"dye_absorbance_spectrum.csv\". We'll first load this file into python.\n",
    "\n",
    "### Load and view the data into python using `pandas`\n",
    "\n",
    "The data is uploaded using a python module known as `pandas` which will store the data in a *dataframe*. In the blocks below, we will go through how to load the data and view it as well."
   ]
  },
  {
   "cell_type": "code",
   "execution_count": null,
   "metadata": {},
   "outputs": [],
   "source": [
    "# First we need to load the python modules we need\n",
    "# This is just pandas for now\n",
    "import pandas as pd\n",
    "\n",
    "# Now we need to load the data using the pandas read_csv function\n",
    "# This function reads the data from the file and loads it into a pandas dataframe\n",
    "# This is saved in a variable called dye_absorbance_spectrum\n",
    "dye_absorbance_spectra = pd.read_csv(\"dye_absorbance_spectrum.csv\", delimiter=\",\")\n",
    "\n",
    "# now lets take a look at the data\n",
    "# but only the first 5 rows\n",
    "print(dye_absorbance_spectra.head())"
   ]
  },
  {
   "cell_type": "markdown",
   "metadata": {},
   "source": [
    "As we can see, the dataframe shows the same information as excel. Since it also preserves the column headings, we can use those to look at subsets of the data and call each column separately if necessary. This is important since we will need to do calculations using the two absorbance values.\n",
    "\n",
    "The syntax to do this is as follows:\n",
    "1. First, write the name of the variable that represents the *dataframe*\n",
    "2. Next add square brackets\n",
    "3. Add quotation marks inside the square brackets\n",
    "4. Inside the quotes, enter the *exact* name of the column\n",
    "\n",
    "So, for example, if I wanted to view just the data for **Dye Sample 1** I would use this code:"
   ]
  },
  {
   "cell_type": "code",
   "execution_count": null,
   "metadata": {},
   "outputs": [],
   "source": [
    "# Viewing only the first sample\n",
    "# We have to make sure that the column name is exactly the same as in the excel file\n",
    "print(dye_absorbance_spectra[\"Dye Sample 1\"])"
   ]
  },
  {
   "cell_type": "markdown",
   "metadata": {},
   "source": [
    "We can also view multiple columns at the same time by separating the column names with a comma:"
   ]
  },
  {
   "cell_type": "code",
   "execution_count": null,
   "metadata": {},
   "outputs": [],
   "source": [
    "# Viewing both the wavelength and the first sample\n",
    "# We have to make sure that the column names are exactly the same as in the excel file\n",
    "# Here we added an extra set of square brackets to specify that we want to view multiple columns\n",
    "# And separated the column names by a comma\n",
    "print(dye_absorbance_spectra[[\"Wavelength (nm)\", \"Dye Sample 1\"]])"
   ]
  },
  {
   "cell_type": "markdown",
   "metadata": {},
   "source": [
    "## Task #1:\n",
    "For practice, in the space below, fill in the code to view the *Wavelength (nm)* and *Dye Sample 4* columns by adding the column names *in between* the quotes"
   ]
  },
  {
   "cell_type": "code",
   "execution_count": null,
   "metadata": {},
   "outputs": [],
   "source": [
    "# Viewing only the wavelength and the fourth sample \n",
    "# Fill in the correct column names in between the quotes\n",
    "print(dye_absorbance_spectra[[\"\", \"\"]])"
   ]
  },
  {
   "cell_type": "markdown",
   "metadata": {},
   "source": [
    "### Creating variables for each column\n",
    "\n",
    "Now that we're a little more familiarized with dataframes, we can move on to doing calculations with the loaded data. However, before doing this, it is very helpful to store the columns in separate variables since the syntax for calling a variable is much shorter.\n",
    "\n",
    "We will also convert the data into an *array* using the module `numpy`, this will make calculations easier. Think of arrays as vectors\n",
    "\n",
    "## Task #2\n",
    "\n",
    "**Write in the correct column headings in the empty quotes below**"
   ]
  },
  {
   "cell_type": "code",
   "execution_count": null,
   "metadata": {},
   "outputs": [],
   "source": [
    "# First let\"s import numpy\n",
    "import numpy as np\n",
    "\n",
    "# We\"ll store the columns as individual variables\n",
    "# We will also convert the data to numpy arrays\n",
    "# I will do the first two for you, you can do the rest as practice\n",
    "wavelength = np.array(dye_absorbance_spectra[\"Wavelength (nm)\"])\n",
    "sample_1 = np.array(dye_absorbance_spectra[\"Dye Sample 1\"])\n",
    "\n",
    "# Now you do the rest\n",
    "sample_2 = np.array(dye_absorbance_spectra[\"\"])\n",
    "sample_3 = np.array(dye_absorbance_spectra[\"\"])\n",
    "sample_4 = np.array(dye_absorbance_spectra[\"\"])\n",
    "sample_5 = np.array(dye_absorbance_spectra[\"\"])"
   ]
  },
  {
   "cell_type": "markdown",
   "metadata": {},
   "source": [
    "### Plotting using `matplotlib`\n",
    "\n",
    "To create plots on python, we will be using a library called `matplotlib`, this is a very extensive library that can do a lot of powerful tasks. But we will only use some of is features for this course.\n",
    "\n",
    "#### Storing each measurement as a variable\n",
    "Since all the measurements share the same x-axis, we can define a variable that stores the wavelength column, so we don't have to call it every time using the `pandas` notation."
   ]
  },
  {
   "cell_type": "markdown",
   "metadata": {},
   "source": [
    "#### Creating a plot canvas\n",
    "The first thing we want to do when plotting is to make sure our plot is well formatted. To do this, we will create a *canvas*. Think of this like hitting the **scatter plot** button in Excel to create an empty plot. We'll then label our axes.\n",
    "  \n",
    "When you run this cell, you should see an empty plot with nicely formatted axes."
   ]
  },
  {
   "cell_type": "code",
   "execution_count": null,
   "metadata": {},
   "outputs": [],
   "source": [
    "# Importing matplotlib for plotting\n",
    "import matplotlib.pyplot as plt\n",
    "\n",
    "# Create a canvas for the figure thats 8pt wide and 6pt tall\n",
    "plt.figure(figsize=(8, 6))\n",
    "\n",
    "# This changes the fontsize of the ticks on the axis\n",
    "plt.tick_params(labelsize=14)\n",
    "\n",
    "# This labels the axis and also changes their fontsize\n",
    "plt.xlabel(\"Wavelength (nm)\", fontsize=16)\n",
    "plt.ylabel(\"Absorbance (a.u.)\", fontsize=16)\n",
    "\n",
    "# This shows the plot\n",
    "plt.show()"
   ]
  },
  {
   "cell_type": "markdown",
   "metadata": {},
   "source": [
    "#### Adding data to the plot\n",
    "This is done by calling `plt.plot` and having the x and y data in parentheses. Therefore, the general format for adding data to a plot looks like this:  \n",
    "`plt.plot(x, y)`\n",
    "\n",
    "For example, this is what the plot for just the wavelength and the first dye sample would look like:"
   ]
  },
  {
   "cell_type": "code",
   "execution_count": null,
   "metadata": {},
   "outputs": [],
   "source": [
    "# Create a canvas for the figure thats 8pt wide and 6pt tall\n",
    "plt.figure(figsize=(8, 6))\n",
    "\n",
    "# An example plot of the wavelength against the absorbance of the first sample\n",
    "plt.plot(wavelength, sample_1, label=\"Dye Sample 1\")\n",
    "\n",
    "# This labels the axis and also changes their fontsize\n",
    "plt.xlabel(\"Wavelength (nm)\", fontsize=16)\n",
    "plt.ylabel(\"Absorbance (a.u.)\", fontsize=16)\n",
    "\n",
    "# This changes the fontsize of the ticks on the axis\n",
    "plt.tick_params(labelsize=14)\n",
    "\n",
    "# Adding labels\n",
    "plt.legend()\n",
    "# to show the plot\n",
    "plt.show()"
   ]
  },
  {
   "cell_type": "markdown",
   "metadata": {},
   "source": [
    "#### Your turn to plot\n",
    "\n",
    "## Task #3\n",
    "\n",
    "We'll combine both of the previous steps to plot the data we have. \n",
    "\n",
    "You will add your data to the graph below the large comment:\n",
    " `'''PLOTTING THE DATA'''`\n",
    "\n",
    "For ease, I've added the code to plot Dye Samples 1-5, **all you need to do is**: replace the \"x\" and the \"y\" with appropriate variables and edit text after `label=` with the sample name you would like on the legend of the plot. \n",
    "\n",
    "***Note:*** labels *have to* be in-between quotations. I have set up the first plot for you as an example."
   ]
  },
  {
   "cell_type": "code",
   "execution_count": null,
   "metadata": {},
   "outputs": [],
   "source": [
    "# Create a canvas for the figure thats 8pt wide and 6pt tall\n",
    "plt.figure(figsize=(8, 6))\n",
    "\n",
    "'''PLOTTING THE DATA'''\n",
    "# Plot of the wavelength against the absorbance of the first sample\n",
    "# I've done the first one for you\n",
    "plt.plot(wavelength, sample_1, label=\"Dye Sample 1\")\n",
    "\n",
    "# Now you do the rest\n",
    "plt.plot(x, y, label=\"\")\n",
    "plt.plot(x, y, label=\"\")\n",
    "plt.plot(x, y, label=\"\")\n",
    "plt.plot(x, y, label=\"\")\n",
    "\n",
    "# This changes the fontsize of the ticks on the axis\n",
    "plt.tick_params(labelsize=14)\n",
    "\n",
    "# This labels the axis and also changes their fontsize\n",
    "plt.xlabel(\"Wavelength (nm)\", fontsize=16)\n",
    "plt.ylabel(\"Absorbance (a.u.)\", fontsize=16)\n",
    "\n",
    "# Don't need to edit this but I will explain everything I am doing here\n",
    "# Set limits for the x and y axis\n",
    "plt.xlim(400, 700)\n",
    "plt.ylim(-0.05, 1.2)\n",
    "\n",
    "# Add the plot legend\n",
    "plt.legend(fontsize=16)\n",
    "\n",
    "# This makes sure that the plot is formatted correctly\n",
    "plt.tight_layout()\n",
    "plt.show()"
   ]
  },
  {
   "cell_type": "markdown",
   "metadata": {},
   "source": [
    "## Part B: Find the peak absorbance"
   ]
  },
  {
   "cell_type": "markdown",
   "metadata": {},
   "source": [
    "### Wavelength of peak absorbance\n",
    "The wavelength of the peak absorbance for this dye sample ($\\lambda_{max}$) is:\n",
    "$$\\lambda_{max} = 578 nm$$\n",
    "\n",
    "For this course, $\\lambda_{max}$ will always be give to you. So, all we need to find the **absorbance** values at a wavelength of 578 nm for all our dye samples.\n",
    "\n",
    "### Finding the absorbance at 578 nm\n",
    "We will basically be doing python's version of hitting **CTRL/CMD + F** to find a particular value. The syntax may look complicated at first, but know that the only thing we need to worry about is the number that's highlighted. \n",
    "\n",
    "As an example, the code below just asks python to select the row in each column where the wavelength equals to 430 nm."
   ]
  },
  {
   "cell_type": "code",
   "execution_count": null,
   "metadata": {},
   "outputs": [],
   "source": [
    "# This will print all of the column values where the wavelength is 430 nm\n",
    "print(dye_absorbance_spectra[dye_absorbance_spectra[\"Wavelength (nm)\"] == 430])"
   ]
  },
  {
   "cell_type": "markdown",
   "metadata": {},
   "source": [
    "## Task #4\n",
    "We need to do the same thing but for $\\lambda_{max}$ so edit the line below to reflect that change by replacing the `?` with the appropriate value"
   ]
  },
  {
   "cell_type": "code",
   "execution_count": null,
   "metadata": {},
   "outputs": [],
   "source": [
    "# # This is the absorbance at lambda_max for the samples\n",
    "# This code is incomplete, you need to fill in the question mark\n",
    "lambda_max = dye_absorbance_spectra[dye_absorbance_spectra[\"Wavelength (nm)\"] == ?]\n",
    "                        \n",
    "# This will print the absorbance at 578 nm for the samples\n",
    "print(lambda_max)"
   ]
  },
  {
   "cell_type": "markdown",
   "metadata": {},
   "source": [
    "## Task #5\n",
    "#### Store the Absorbance Data in Excel\n",
    "To make things easier, you can store the absorbance at 578 nm and the concentration of each run in the Excel sheet labelled **\"dye_absorptivity_determination.xlsx\"** which should be stored in the same folder as this notebook.\n",
    "\n",
    "For ease, I have added the samples numbers and concentrations in the excel sheet, you just need to fill in the absorbance values at 578 nm from the result above.\n",
    "\n",
    "**DO NOT CHANGE ANY OF THE COLUMN HEADINGS. THIS WILL RESULT IN AN ERROR IN THE CODE** \n",
    "\n",
    "The procedure is:\n",
    "\n",
    "1. Download the excel file\n",
    "2. Enter the data in the respective column\n",
    "3. Save the file\n",
    "4. Reupload the file into the same folder. **Do not change the name of the file**\n",
    "5. Click \"overwrite\" when the dialog asks.\n",
    "\n",
    "#### Uploading the Absorbance Data\n",
    "We will be uploading the data using `pandas`, same as the spectra."
   ]
  },
  {
   "cell_type": "code",
   "execution_count": null,
   "metadata": {},
   "outputs": [],
   "source": [
    "# Upload the calibration data from the excel file and store it as a dataframe\n",
    "beers_law_data = pd.read_excel(\"dye_absorptivity_determination.xlsx\", engine=\"openpyxl\")\n",
    "\n",
    "# Storing the concentration and absorbance values in variables\n",
    "# We are also converting them to numpy arrays for easier calculations later\n",
    "concentration = np.asarray(beers_law_data[\"Concentration (uM)\"])\n",
    "absorbance = np.asarray(beers_law_data[\"Absorbance 578nm\"])\n",
    "\n",
    "# Test if this works\n",
    "print(concentration, absorbance)"
   ]
  },
  {
   "cell_type": "markdown",
   "metadata": {},
   "source": [
    "## Part C: Molar Absorptivity and Beer's law plot.\n",
    "### Fitting the data using a simple linear model\n",
    "To fit, we'll be using the python library `scipy.stats`, and its corresponding linear regression class known as `linregress`. This is basically the python equivalent of **linest** in Excel. It will automatically fit our data to a linear model:\n",
    "$$y = mx + c$$\n",
    "\n",
    "To actually fit this, all we need to do is to call the function `linregress` which takes in two arguments:\n",
    "- `x` = the independent variable\n",
    "- `y` = the dependent variable\n",
    "\n",
    "We will store the results of the fit as a variable `regression_results`"
   ]
  },
  {
   "cell_type": "markdown",
   "metadata": {},
   "source": [
    "## Task #6\n",
    "Identify the independent and dependent variable in your experiment (i.e. x and y). Next, find the appropriate variables from above which correspond to the independent and dependent variable. \n",
    "\n",
    "Finally, *complete* the *right-hand side* of the expressions inside the parentheses: `x=` and `y=` with the variables identified above.\n",
    "\n",
    "If the completed the task correctly, the cell should print out:\n",
    "\n",
    "**Regression Successful**"
   ]
  },
  {
   "cell_type": "code",
   "execution_count": null,
   "metadata": {},
   "outputs": [],
   "source": [
    "# Let's import the linregress function from scipy\n",
    "from scipy.stats import linregress\n",
    "\n",
    "# Now to perform the linear regression\n",
    "# This is stored in a variable called regression_results\n",
    "\n",
    "# Fill in the x and y values for the linear regression\n",
    "regression_results = linregress(x=, y=)\n",
    "\n",
    "print('Regression Successful')"
   ]
  },
  {
   "cell_type": "markdown",
   "metadata": {},
   "source": [
    "### Fit results\n",
    "For ease, we'll store the fitted slope, intercept, the errors, and the $r^2$ as variables, and then print the results. We will also do the same for the respective errors."
   ]
  },
  {
   "cell_type": "code",
   "execution_count": null,
   "metadata": {},
   "outputs": [],
   "source": [
    "# Here is the slope and y-intercept\n",
    "# n1 refers to the first order reaction\n",
    "slope = regression_results.slope\n",
    "intercept = regression_results.intercept\n",
    "\n",
    "# And the errors\n",
    "slope_err = regression_results.stderr\n",
    "intercept_err = regression_results.intercept_stderr\n",
    "\n",
    "# And the r-squared value\n",
    "r_squared = regression_results.rvalue**2\n",
    "\n",
    "# We'll first print the results\n",
    "# Printing the results\n",
    "print(f'Slope = {slope} ± {slope_err}')\n",
    "print(f'Intercept = {intercept} ± {intercept_err}')\n",
    "print(f'r^2 = {r_squared}')"
   ]
  },
  {
   "cell_type": "markdown",
   "metadata": {},
   "source": [
    "### Find the fitted y-values for plotting\n",
    "\n",
    "Using the fitted slope and intercept, we can visualize the \"goodness of fit\" by plotting both the fitted data and the experimental data on the same plot. \n",
    "\n",
    "To do this, we need to calculate the \"fitted y-values\" by using the calculated slope and intercept. Additionally, we want to extrapolate the fit, so it spans a longer range than the measurements we took: this will help us better visualize how the two variables relate to each other and how our good fit is."
   ]
  },
  {
   "cell_type": "code",
   "execution_count": null,
   "metadata": {},
   "outputs": [],
   "source": [
    "import matplotlib.pyplot as plt\n",
    "\n",
    "# We'll first create some equally spaced time values so the fit is extended\n",
    "conc_fit = np.linspace(concentration.min()*0.8, concentration.max()*1.2, 1000)\n",
    "# Now we'll calculate the y-values for the fit using the equation of a line\n",
    "absorbance_fit = slope * conc_fit + intercept"
   ]
  },
  {
   "cell_type": "markdown",
   "metadata": {},
   "source": [
    "## Task #7:\n",
    "More practice plotting! You have three things to do:\n",
    "- Replace the `\"INSERT X-AXIS LABEL HERE\"` and `\"INSERT Y-AXIS LABEL HERE\"` with the proper labels for the axes. Make sure to add your label **in-between** the quotation marks.\n",
    "- For the ***Experimental Data***, replace the `x` and `y` with the appropriate variable names.\n",
    "- Do the same for the ***Fitted Data***\n",
    "\n",
    "For the last two, replace the `x` and `y` with the variable names you defined above in these lines:\n",
    "- `experimental_plot, = plt.plot(x, y, \"o\", markersize=8, label=\"Experimental Data\", color=\"red\")`\n",
    "- `fitted_plot, = plt.plot(x, y, \"-\", label=\"Fitted Data\", color=\"black\")`"
   ]
  },
  {
   "cell_type": "code",
   "execution_count": null,
   "metadata": {},
   "outputs": [],
   "source": [
    "# Now to plot\n",
    "# Creating the canvas, same as before \n",
    "plt.figure(figsize=(8, 6))\n",
    "\n",
    "# Changing the size of labels\n",
    "plt.tick_params(labelsize=14)\n",
    "\n",
    "# Add the axes labels here by replacing the text in between the quotation marks\n",
    "plt.xlabel(\"INSERT X-LABEL HERE\", fontsize=16)\n",
    "plt.ylabel(\"INSERT Y-LABEL HERE\", fontsize=16)\n",
    "\n",
    "# Plotting our specific data\n",
    "\n",
    "# Plotting the experimental data as a scatter plot\n",
    "# The \"o\" argument tells matplotlib to plot the data points as circles\n",
    "# The markersize argument changes the size of the circles\n",
    "# The label argument is used to create a legend\n",
    "# The color argument changes the color of the data points\n",
    "\n",
    "# Replace the \"x\" and \"y\" with the correct variables: remember, variable names are not in quotes\n",
    "experimental_plot, = plt.plot(x, y, \"o\", markersize=8, label=\"Experimental Data\", color=\"red\")\n",
    "\n",
    "# Replace the \"x\" and \"y\" with the correct variables for the fitted line\n",
    "# Remember these are the fitted time and n1 values we calculated above\n",
    "# The \"-\" argument tells matplotlib to plot the data points as a line\n",
    "# everything else is the same, we do not need a markersize for a line\n",
    "fitted_plot, = plt.plot(x, y, \"-\", label=\"Fitted Data\", color=\"black\")\n",
    "\n",
    "# Additionally, we will add some text to the plot \n",
    "# to display the slope, intercept and r-squared value with their errors\n",
    "# *this is not required syntax for you to know, but it is very useful*\n",
    "plt.text(0.95, 0.05, \n",
    "         f\"m = {round(slope, 5)} ± {round(slope_err, 5)}\" + \n",
    "         f\"\\nc = {round(intercept, 3)} ± {round(intercept_err, 3)}\" +\n",
    "         f\"\\n$r^2$ = {r_squared:0.4g}\",\n",
    "         ha=\"right\", va=\"bottom\", transform=plt.gca().transAxes, fontsize=16)\n",
    "\n",
    "# Now we add the legend\n",
    "plt.legend(fontsize=16)\n",
    "\n",
    "# This makes sure that the plot is formatted correctly\n",
    "plt.tight_layout()\n",
    "\n",
    "plt.show()"
   ]
  },
  {
   "cell_type": "markdown",
   "metadata": {},
   "source": [
    "## Task #8\n",
    "\n",
    "Now that we have the Beer's law plot and the regression, we can find the molar absorptivity. In the code below, there is an *incomplete* variable for molar absorptivity and the error. Fill in the `?` with the correct variables for the molar absorptivity and error, based on the regression results above.\n"
   ]
  },
  {
   "cell_type": "code",
   "execution_count": null,
   "metadata": {},
   "outputs": [],
   "source": [
    "molar_absorptivity = ?  * 1e6 # in units of M^-1 cm^-1, I've converted it for you\n",
    "molar_absorptivity_err = ? * 1e6 # in units of M^-1 cm^-1\n",
    "\n",
    "# Printing the molar absorptivity and its error\n",
    "print(f'Molar Absorptivity = {molar_absorptivity} ± {molar_absorptivity_err} M^-1 cm^-1')"
   ]
  }
 ],
 "metadata": {
  "kernelspec": {
   "display_name": "Python 3",
   "language": "python",
   "name": "python3"
  },
  "language_info": {
   "codemirror_mode": {
    "name": "ipython",
    "version": 3
   },
   "file_extension": ".py",
   "mimetype": "text/x-python",
   "name": "python",
   "nbconvert_exporter": "python",
   "pygments_lexer": "ipython3",
   "version": "3.12.4"
  }
 },
 "nbformat": 4,
 "nbformat_minor": 2
}
