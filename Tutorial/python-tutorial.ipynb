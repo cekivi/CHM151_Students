{
 "cells": [
  {
   "cell_type": "markdown",
   "metadata": {},
   "source": [
    "# Introduction to Python\n",
    "\n",
    "Welcome to python! In this notebook you'll learn some basic tenants of python coding and using a Jupyter notebook! Make sure to read the instructions carefully and follow along.\n",
    "\n",
    "### Chapters:\n",
    "- Using a Jupyter Notebook\n",
    "- Intro to Python Syntax\n",
    "- Some Data Structures: lists, arrays, and dataframes\n",
    "- What is a Function?\n",
    "- Running a linear regression\n",
    "- Common errors"
   ]
  },
  {
   "cell_type": "markdown",
   "metadata": {},
   "source": [
    "# Using a Jupyter Notebook\n",
    "There are two main components or \"cells\" in a Jupyter Notebook:\n",
    "- Markdown cell\n",
    "- Python/Code cell\n",
    "\n",
    "## Markdown Cells\n",
    "The cell you're reading right now is a **Markdown** cell. For the assignments, this will contain the instructions for running the notebook. We can also add nicely formatted equations in a mark **Markdown** cell:\n",
    "\n",
    "$$y=mx+c$$\n",
    "\n",
    "You **do not** need to know the syntax of how to use a Markdown cell, they will only be for instructions. Any interactions with the Markdown file will have explicit instructions.\n",
    "\n",
    "## Python/Code Cell\n",
    "\n",
    "Below we have a python or code cell:"
   ]
  },
  {
   "cell_type": "code",
   "execution_count": null,
   "metadata": {},
   "outputs": [],
   "source": [
    "# This is a python cell\n",
    "print(\"Hello, World!\")"
   ]
  },
  {
   "cell_type": "markdown",
   "metadata": {},
   "source": [
    "These are **interactive** this is where we write the code. At the top of the page there is a play button that says **Run**. If you click that button it should print this message right below the cell:\n",
    "\n",
    "\"Hello, World!\"\n",
    "\n",
    "Notice the `print(\"Hello, World!\")` line: this is telling python to output the message \"Hello, World!\"\n",
    "\n",
    "I've added an empty cell below with some quotation marks. Try playing with the code and add whatever message you want **inside of the quotation marks**. Then run the cell to see if things work as expected."
   ]
  },
  {
   "cell_type": "code",
   "execution_count": null,
   "metadata": {},
   "outputs": [],
   "source": [
    "# Add your message in the print statement below\n",
    "print(\"REPLACE THIS WITH YOUR MESSAGE\")\n",
    "# Then run the python cell"
   ]
  },
  {
   "cell_type": "markdown",
   "metadata": {},
   "source": [
    "There is also some basic syntax you will need to be aware of, such as comments. Most *major* instructions will be given in the markdown cells, but some of the instructions will be given to you within the python cell. This is done using comments, this is \"non code\" language that is used to explain the code. \n",
    "\n",
    "Comments come after a hashtag: `#`"
   ]
  },
  {
   "cell_type": "code",
   "execution_count": null,
   "metadata": {},
   "outputs": [],
   "source": [
    "# This is a comment, this does not run any code and is only used for notes"
   ]
  },
  {
   "cell_type": "markdown",
   "metadata": {},
   "source": [
    "Now you should be ready to run a Jupyter Notebook!"
   ]
  },
  {
   "cell_type": "markdown",
   "metadata": {},
   "source": [
    "# Python syntax: Variables\n",
    "\n",
    "Below we'll learn some very basic syntax on python, i.e. how we store information on python and tell it what to do. \n",
    "\n",
    "## Printing & Strings\n",
    "\n",
    "The first thing we learned from above was how to get python to \"print\" a message.\n",
    "\n",
    "This is done by using the `print()` statement and putting a *string* inside the print. A *string* is surrounded by quotations `\"\"` and can contain any form of text such as sentences, words, or numbers."
   ]
  },
  {
   "cell_type": "code",
   "execution_count": null,
   "metadata": {},
   "outputs": [],
   "source": [
    "print(\"This will print a string\")"
   ]
  },
  {
   "cell_type": "markdown",
   "metadata": {},
   "source": [
    "Go ahead and run the cell above and look at the output"
   ]
  },
  {
   "cell_type": "markdown",
   "metadata": {},
   "source": [
    "### Outputs\n",
    "\n",
    "This brings us to outputs. We've already encountered this in the examples above. Explicitly, the outputs of the python codes appear *below* the cell after running it. This is also where any errors will appear!"
   ]
  },
  {
   "cell_type": "code",
   "execution_count": null,
   "metadata": {},
   "outputs": [],
   "source": [
    "# Run this cell to see the output\n",
    "print(\"This will output a string with some numbers: 1, 2, 3, 4, 5\")"
   ]
  },
  {
   "cell_type": "markdown",
   "metadata": {},
   "source": [
    "## Variables\n",
    "\n",
    "We'll now learn about variables. Variables are very important in python, they are how we store any sort of information in python. \n",
    "\n",
    "Variables are created by defining a variable name and adding an equals sign after the name `=`. The data we want to store in the variable is written to the *right* of the `=`. \n",
    "\n",
    "For example, if I want to define a variable for the number *7* and label it *seven*, the syntax will be:\n",
    "\n",
    "`seven = 7`\n",
    "\n",
    "And in python: (go ahead and run the cell below)"
   ]
  },
  {
   "cell_type": "code",
   "execution_count": null,
   "metadata": {},
   "outputs": [],
   "source": [
    "# A variable for the number 7\n",
    "seven = 7"
   ]
  },
  {
   "cell_type": "markdown",
   "metadata": {},
   "source": [
    "Notice that when you run this code (hit the play button over the cell), there is no output! This is because variables are simply stored *in memory*. If we want the variable to be outputted, we need to write a print statement and put the variable name inside the parentheses."
   ]
  },
  {
   "cell_type": "code",
   "execution_count": null,
   "metadata": {},
   "outputs": [],
   "source": [
    "# Here we are print the variable seven\n",
    "print(seven)"
   ]
  },
  {
   "cell_type": "markdown",
   "metadata": {},
   "source": [
    "### Variables can be anything\n",
    "\n",
    "Variables can be any sort of data, not just numbers. It can also be strings, which we learned about above."
   ]
  },
  {
   "cell_type": "code",
   "execution_count": null,
   "metadata": {},
   "outputs": [],
   "source": [
    "# This is a variable storing a string\n",
    "greeting = \"Hello, World!\"\n",
    "# Now let's print the variable greeting\n",
    "print(greeting)"
   ]
  },
  {
   "cell_type": "markdown",
   "metadata": {},
   "source": [
    "Now there are some rules while naming variables:\n",
    "- The name cannot have numbers in it, it must be words\n",
    "- There are no spaces in variable names, if you need to add a space use an underscore: `double_word = \"Two word variable\"`\n",
    "- There needs to be a variable name and some sort of data on the *right* of the equals sign, otherwise the statement is incomplete: `incomplete_variable =` and running this code will give you an error."
   ]
  },
  {
   "cell_type": "markdown",
   "metadata": {},
   "source": [
    "### Doing math using variables\n",
    "\n",
    "Now let's get comfortable using variables. We'll use python to calculate the molar mass of some hydrocarbons. The first step here is to define variables with the atomic masses of carbon and hydrogen:"
   ]
  },
  {
   "cell_type": "code",
   "execution_count": 1,
   "metadata": {},
   "outputs": [],
   "source": [
    "# Below are the variables for the atomic masses of Hydrogen and Carbon\n",
    "mass_H = 1.0079\n",
    "mass_C = 12.0107"
   ]
  },
  {
   "cell_type": "markdown",
   "metadata": {},
   "source": [
    "Make sure to run the cell above!\n",
    "\n",
    "Now let's find the mass for methane: $CH_4$\n",
    "\n",
    "So we need to define variables for the number of carbons and hydrogens:"
   ]
  },
  {
   "cell_type": "code",
   "execution_count": 4,
   "metadata": {},
   "outputs": [],
   "source": [
    "# Defining variables for the number of atoms of each element in a molecule of methane\n",
    "num_H = 4\n",
    "num_C = 1"
   ]
  },
  {
   "cell_type": "markdown",
   "metadata": {},
   "source": [
    "Again, run this cell!\n",
    "\n",
    "To find the molar mass, we will do some calculations! To tell python to add two variables we simply use a plus sign `+` and for multiplication, we use a star `*`. You'll notice that this is the exact same as in Excel!\n",
    "\n",
    "We can also use parentheses, just like we would mathematically."
   ]
  },
  {
   "cell_type": "code",
   "execution_count": null,
   "metadata": {},
   "outputs": [],
   "source": [
    "# Now to find the molar mass of methane\n",
    "molar_mass = (mass_H*num_H) + (mass_C*num_C)\n",
    "# Now let's print the molar mass\n",
    "print(f'Molar mass of methane: {molar_mass} g/mol')"
   ]
  },
  {
   "cell_type": "markdown",
   "metadata": {},
   "source": [
    "One thing you'll notice is that the format inside the print statement is not something we've seen before! This is because I'm using something known as an *f-string*. You **do not** need to know what an f-string is, but it's a very clean way to have both strings and variables in one print statement.\n",
    "\n",
    "Now, your task is to find the molar mass of ethane: $C_2H_6$\n",
    "\n",
    "Below, I've added all the variables, you need to complete the *right-hand side* definitions\n",
    "\n",
    "Note for me: make a nother small notebook to calculate the molar mass of another hydrocarbon"
   ]
  },
  {
   "cell_type": "code",
   "execution_count": null,
   "metadata": {},
   "outputs": [],
   "source": [
    "# Here are the masses, make sure to define the variables\n",
    "mass_H =\n",
    "mass_C = \n",
    "# Now define the number of atoms of each element in a molecule of ethane\n",
    "num_H = \n",
    "num_C = "
   ]
  },
  {
   "cell_type": "markdown",
   "metadata": {},
   "source": [
    "Now run this cell after defining the variables! ***Remember, we always need to run each cell, this stores the variable in python. If you miss running a cell, then python will not remember that you defined the variable.***\n",
    "\n",
    "Now, below I've added an incomplete statement for the molar mass. Use the syntax you learned above to add the computation for the molar mass, The answer should be: 30 g/mL"
   ]
  },
  {
   "cell_type": "code",
   "execution_count": null,
   "metadata": {},
   "outputs": [],
   "source": [
    "# Below is the molar mass calculation for ethane\n",
    "# remember we need to multiply the mass of each element by the number of atoms of that element in the molecule\n",
    "# and then sum the results, same formula as for methane\n",
    "molar_mass = \n",
    "# Now let's print the molar mass: no need to add anything to this line\n",
    "print(f'Molar mass of ethane: {molar_mass} g/mol')"
   ]
  },
  {
   "cell_type": "markdown",
   "metadata": {},
   "source": [
    "### Some extra math syntax\n",
    "I'll list down all the math syntax you'll need, most of them are the same as in Excel, except for exponents!\n",
    "- Adding: `+`\n",
    "- Subtracting: `-`\n",
    "- Multiplication: `*`\n",
    "- Division: `/`\n",
    "- Exponent: `**`\n",
    "- Parentheses: `()`"
   ]
  },
  {
   "cell_type": "code",
   "execution_count": null,
   "metadata": {},
   "outputs": [],
   "source": [
    "# Some examples of mathematical operations: feel free to play with the numbers\n",
    "addition = 2 + 2\n",
    "subtraction = 3 - 1\n",
    "multiplication = 2 * 3\n",
    "division = 8 / 4\n",
    "exponentiation = 2 ** 3\n",
    "# Add order of operations\n",
    "order_of_operations = (2 + 2) * 4 / 2\n",
    "\n",
    "# Now let's print the results\n",
    "print(f'Addition: {addition}')\n",
    "print(f'Subtraction: {subtraction}')\n",
    "print(f'Multiplication: {multiplication}')\n",
    "print(f'Division: {division}')\n",
    "print(f'Exponentiation: {exponentiation}')\n",
    "print(f'Order of Operations: {order_of_operations}')"
   ]
  },
  {
   "cell_type": "markdown",
   "metadata": {},
   "source": [
    "# Data Structures: lists, arrays, and strings\n",
    "\n",
    "## Lists\n",
    "\n",
    "One data structure that we won't use often in these labs, but you should know about is a *list*. We need to learn about lists as they are the basis of the other more complicated structures we'll need.\n",
    "\n",
    "A list is, as expected: a list of variables, numbers, or strings! They are defined by adding *elements* inside a square bracket `[]` and separating each element in the list using a comma. So, if I wanted a list of numbers 1-5 we would do this:"
   ]
  },
  {
   "cell_type": "code",
   "execution_count": null,
   "metadata": {},
   "outputs": [],
   "source": [
    "# Printing a list of numbers from 1 to 5\n",
    "print([1, 2, 3, 4, 5])"
   ]
  },
  {
   "cell_type": "markdown",
   "metadata": {},
   "source": [
    "When you run the cell you'll notice that it prints out the list exactly as we wrote it in the syntax.\n",
    "\n",
    "A list can be stored in a variable and can hold any types of data: numbers or strings"
   ]
  },
  {
   "cell_type": "code",
   "execution_count": null,
   "metadata": {},
   "outputs": [],
   "source": [
    "# Here is a list with random elements\n",
    "random_list = [1, 'hello', 3.14, 'world', 5]\n",
    "# Now let's print the list\n",
    "print(random_list)"
   ]
  },
  {
   "cell_type": "markdown",
   "metadata": {},
   "source": [
    "Now let's make two lists with some random numbers and see what happens when we try to add them."
   ]
  },
  {
   "cell_type": "code",
   "execution_count": null,
   "metadata": {},
   "outputs": [],
   "source": [
    "# Two lists with random numbers of the same length\n",
    "list_1 = [1, 2, 3, 4, 5]\n",
    "list_2 = [6, 7, 8, 9, 10]\n",
    "\n",
    "# Adding the two lists\n",
    "add_list = list_1 + list_2\n",
    "\n",
    "# Now let's print the added list\n",
    "print(add_list)"
   ]
  },
  {
   "cell_type": "markdown",
   "metadata": {},
   "source": [
    "Run the cell above, and what do you see?\n",
    "\n",
    "The elements were not added mathematically! Instead, we see something else known as *concatenation*, where the elements of the lists were combined to form a new, longer list. This is why, to do math, we need a new type of data structure."
   ]
  },
  {
   "cell_type": "markdown",
   "metadata": {},
   "source": [
    "## Arrays\n",
    "\n",
    "The best way to do math with lists is to convert them into arrays. The best way to view arrays is as vectors, so one column of data that can be as many rows as needed. To create arrays we will need to pull up a module known as `numpy`.\n",
    "\n",
    "Run the cell below, and what do you see?"
   ]
  },
  {
   "cell_type": "code",
   "execution_count": null,
   "metadata": {},
   "outputs": [],
   "source": [
    "# Let's import numpy\n",
    "import numpy as np\n",
    "\n",
    "# let's create two lists of numbers\n",
    "list_1 = [1, 2, 3, 4, 5]\n",
    "list_2 = [6, 7, 8, 9, 10]\n",
    "\n",
    "# Now let's convert the lists to arrays\n",
    "array_1 = np.array(list_1)\n",
    "array_2 = np.array(list_2)\n",
    "\n",
    "# Now let's add the two arrays\n",
    "add_array = array_1 + array_2\n",
    "\n",
    "# Now let's print the added array\n",
    "print(add_array)"
   ]
  },
  {
   "cell_type": "markdown",
   "metadata": {},
   "source": [
    "\n",
    "As expected, the data is now added properly! We can do this for any two arrays *as long as they are the same size*. And any operation can be done."
   ]
  },
  {
   "cell_type": "code",
   "execution_count": null,
   "metadata": {},
   "outputs": [],
   "source": [
    "# Now let's try doing other mathematical operations with the arrays\n",
    "mult_array = array_1 * array_2\n",
    "div_array = array_2 / array_1\n",
    "exp_array = array_1 ** array_2\n",
    "\n",
    "# Now let's print the results\n",
    "print(f'Multiplication: {mult_array}')\n",
    "print(f'Division: {div_array}')\n",
    "print(f'Exponentiation: {exp_array}')"
   ]
  },
  {
   "cell_type": "markdown",
   "metadata": {},
   "source": [
    "We can also do math with arrays and numbers or scalars."
   ]
  },
  {
   "cell_type": "code",
   "execution_count": null,
   "metadata": {},
   "outputs": [],
   "source": [
    "# We can add a number to an array\n",
    "add_num_array = array_1 + 5\n",
    "# We can also multiply an array by a number\n",
    "mult_num_array = array_1 * 2\n",
    "# Let's square the array\n",
    "squared_array = array_1 ** 2\n",
    "\n",
    "# Now let's print the results\n",
    "print(f'Addition: {add_num_array}')\n",
    "print(f'Multiplication: {mult_num_array}')\n",
    "print(f'Squared: {squared_array}')"
   ]
  },
  {
   "cell_type": "markdown",
   "metadata": {},
   "source": [
    "We can also have multidimensional arrays. Best way to think about 2D or 3D arrays is in the form of a matrix. The examples above are one dimensional arrays so a vector:\n",
    "\n",
    "$$ \\mathrm{1D Array} = \\begin{bmatrix} 1 \\\\ 2 \\\\ 3 \\\\ .. \\end{bmatrix} $$\n",
    "\n",
    "So a 2D array is like a 2D matrix:\n",
    "\n",
    "$$ \\mathrm{2D Array} = \\begin{bmatrix} 1 & 2 \\\\ 3 & 4 \\\\ .. & .. \\end{bmatrix} $$"
   ]
  },
  {
   "cell_type": "code",
   "execution_count": null,
   "metadata": {},
   "outputs": [],
   "source": [
    "# here's an example of a 2D numpy array\n",
    "array_2D = np.array([[1, 2, 3], [4, 5, 6], [7, 8, 9]])\n",
    "\n",
    "# Now let's print the 2D array\n",
    "print(array_2D)"
   ]
  },
  {
   "cell_type": "markdown",
   "metadata": {},
   "source": [
    "We will very rarely encounter 2D arrays, even though our datasets will often have more than one column. Instead, we'll opt to use a datastructure that makes analyzing multidimensional data easier: dataframes."
   ]
  },
  {
   "cell_type": "markdown",
   "metadata": {},
   "source": [
    "## Dataframes\n",
    "\n",
    "Dataframes are more complicated: think of them as an Excel sheet that you have to control using python. Like Excel sheets, they have column headings and the data is arranged in tabular form. The numbers also behave like a `numpy` array, so you can perform orders of operations between columns.\n",
    "\n",
    "For this tutorial we will be using a faux datasheet (these numbers are all false!) which is an Excel file that located in the same folder as this Jupyter notebook. We will first open this data using a module known as `pandas`.\n",
    "\n",
    "Run the cell below and see what happens"
   ]
  },
  {
   "cell_type": "code",
   "execution_count": null,
   "metadata": {},
   "outputs": [],
   "source": [
    "# Importing pandas\n",
    "import pandas as pd\n",
    "\n",
    "# Opening the excel file as a pandas dataframe and storing it in the variable dataframe\n",
    "dataframe = pd.read_excel('emissions_data.xlsx', engine='openpyxl')\n",
    "\n",
    "# Now let's print the first few rows of the dataframe\n",
    "print(dataframe.head())"
   ]
  },
  {
   "cell_type": "markdown",
   "metadata": {},
   "source": [
    "You should see some data that showcases some climate and energy data with respect to the year. When we have large datasets we need to easily extract one or two rows or columns quickly for comparison. This is where dataframes are very powerful. Unlike `numpy` arrays, which can only contain numbers, a dataframe can contain words/letters allowing us to have *labelled column headings*. This will let us very easily extract a column using its label. \n",
    "\n",
    "The syntax is as follows:\n",
    "\n",
    "- First identify the variable name of your dataframe\n",
    "- Copy the *exact* name of the column heading\n",
    "- Combine the two like this: `dataframe_variable[\"Column Heading\"]`, the column heading has to be in between quotes!"
   ]
  },
  {
   "cell_type": "code",
   "execution_count": null,
   "metadata": {},
   "outputs": [],
   "source": [
    "# Let's print out just the temperature column\n",
    "print(dataframe[\"Temperature (°C)\"])"
   ]
  },
  {
   "cell_type": "markdown",
   "metadata": {},
   "source": [
    "We can also look at two columns at the same time by separating the column names by a comma and adding an extra square bracket:\n",
    "\n",
    "`dataframe_variable[[\"Column 1\", \"Column 2\"]]`"
   ]
  },
  {
   "cell_type": "code",
   "execution_count": null,
   "metadata": {},
   "outputs": [],
   "source": [
    "# Let's look at the year and emissions columns\n",
    "print(dataframe[[\"Year\", \"CO2 Emissions (ppm)\"]])"
   ]
  },
  {
   "cell_type": "markdown",
   "metadata": {},
   "source": [
    "Again, we need to make sure that the column name is *exact*. If it's not exact we will get an error!"
   ]
  },
  {
   "cell_type": "markdown",
   "metadata": {},
   "source": [
    "Now let's say I want to see all the data for the year 2000. The syntax for this is a little more complicated. We'll need to:\n",
    "- Identify the *variable name* of the dataframe\n",
    "- Identify the *column heading* that stores all the years (in this case it's \"Year\")\n",
    "- Identify the *Year* we want to look at (2000)\n",
    "\n",
    "Combining all three we get:\n",
    "`dataframe_variable[datafram_variable[\"Column Heading\"] == Year]`"
   ]
  },
  {
   "cell_type": "code",
   "execution_count": null,
   "metadata": {},
   "outputs": [],
   "source": [
    "# Looking at data for a specific year\n",
    "year_2000 = dataframe[dataframe[\"Year\"] == 2000]\n",
    "\n",
    "# Now let's print the data for the year 2000\n",
    "print(year_2000)"
   ]
  },
  {
   "cell_type": "markdown",
   "metadata": {},
   "source": [
    "We can also add two columns together if we want, I'll show an example but remember that this is inaccurate since each column has a different unit!"
   ]
  },
  {
   "cell_type": "code",
   "execution_count": null,
   "metadata": {},
   "outputs": [],
   "source": [
    "# Adding two columns together\n",
    "adding = dataframe[\"CO2 Emissions (ppm)\"] + dataframe[\"Energy Usage (TJ)\"]\n",
    "\n",
    "# Print the result\n",
    "print(adding)"
   ]
  },
  {
   "cell_type": "markdown",
   "metadata": {},
   "source": [
    "Dataframes are a very powerful datastructure. This is the main datastructure we'll be using, along with arrays."
   ]
  },
  {
   "cell_type": "markdown",
   "metadata": {},
   "source": [
    "# Running a linear regression\n",
    "\n",
    "Now that we know how to do some basic Python syntax and how to load excel data into dataframes, we can take a practice look at how to do a linear regression.\n",
    "\n",
    "I will go more in detail into the parts of the linear regression in the individual lab modules, but we can look at some simple examples here.\n",
    "\n",
    "## Create a plot\n",
    "\n",
    "The first thing we will need to do is plot our data to visualize it. Plotting in Python is done using a module known as `matplotlib` which we will import using it's shortened form `plt`. I will go more into detail about everything we can do to create nice plots in the Lab 8 Jupyter Notebook.\n",
    "\n",
    "For now, we create a plot by calling `plt.plot` and having the x and y data in parentheses. Therefore, the general format for adding data to a plot looks like this:  `plt.plot(x, y)`\n",
    "\n",
    "We will walk through it in the code below where we plot the Eutrophication vs the Year:"
   ]
  },
  {
   "cell_type": "code",
   "execution_count": null,
   "metadata": {},
   "outputs": [],
   "source": [
    "# Let's import the modules we need\n",
    "import pandas as pd\n",
    "import matplotlib.pyplot as plt\n",
    "\n",
    "# Reading the data from the excel file\n",
    "dataframe = pd.read_excel('emissions_data.xlsx', engine='openpyxl')\n",
    "\n",
    "# Let's save the year and eutrophication columns in separate variables\n",
    "year = dataframe[\"Year\"]\n",
    "eutrophication = dataframe[\"Eutrophication (kg P eq)\"]\n",
    "\n",
    "# Now let's plot the data\n",
    "# So we call matplotlib to plot the year on the x-axis\n",
    "# and eutrophication on the y-axis\n",
    "plt.plot(year, eutrophication)\n",
    "\n",
    "# We will also label the x and y axes\n",
    "plt.xlabel(\"Year\")\n",
    "plt.ylabel(\"Eutrophication (kg P eq)\")\n",
    "\n",
    "# Let's show the plot\n",
    "plt.tight_layout()\n",
    "plt.show()"
   ]
  },
  {
   "cell_type": "markdown",
   "metadata": {},
   "source": [
    "## Linear Regression\n",
    "\n",
    "Now let's say I want to see how linear this trend is. To do this, we run a *linear regression* and test the goodness-of-fit. We will use a new library called `linregress` to do this. Running a linear regression is also simple, we just call `linregress` and specify the `x` and `y` data:\n",
    "- `lineregress(x, y) \n",
    "\n",
    "This will output a result that we can save as a variable `regression_results`:"
   ]
  },
  {
   "cell_type": "code",
   "execution_count": null,
   "metadata": {},
   "outputs": [],
   "source": [
    "# To run a linear regression, we need to import the linregress function from scipy\n",
    "from scipy.stats import linregress\n",
    "\n",
    "# Let's run the linear regression\n",
    "regression_results = linregress(x=year, y=eutrophication)\n",
    "\n",
    "# If this runs without errors it will print Regression Successful\n",
    "print(\"Regression Successful\")"
   ]
  },
  {
   "cell_type": "markdown",
   "metadata": {},
   "source": [
    "So now to see exactly what happened, we will need to find the fitted slope and y-intercept, just like when we fit using Excel. The easiest way to do this is to call `regression_results.slope` and `regression_results.intercept` as both of them are stored in that variable. Additonally, we can also get their errors!\n",
    "\n",
    "We can also get the $r^2# value that way:"
   ]
  },
  {
   "cell_type": "code",
   "execution_count": null,
   "metadata": {},
   "outputs": [],
   "source": [
    "# Let's get the fitted slope and intercept\n",
    "slope = regression_results.slope\n",
    "intercept = regression_results.intercept\n",
    "\n",
    "# And their errors\n",
    "slope_error = regression_results.stderr\n",
    "intercept_error = regression_results.intercept_stderr\n",
    "\n",
    "# And the R squared value\n",
    "r_value = regression_results.rvalue ** 2\n",
    "\n",
    "# Let's print the results\n",
    "print(f'Slope: {slope} ± {slope_error}')\n",
    "print(f'Intercept: {intercept} ± {intercept_error}')\n",
    "print(f'r^2: {r_value}')"
   ]
  },
  {
   "cell_type": "markdown",
   "metadata": {},
   "source": [
    "### Plot the regression\n",
    "This is great! But we should plot all of this into one plot to actually visualize how good the fit is. So we'll use the slope and intercept to find out fitted y-values and plot it on the same plot as the experimental data. There will be some extra arguments in the code below, but that will be explained in the individual lab modules when you need them."
   ]
  },
  {
   "cell_type": "code",
   "execution_count": null,
   "metadata": {},
   "outputs": [],
   "source": [
    "# First let's find the y values of the linear regression\n",
    "fitted_values = slope * year + intercept\n",
    "\n",
    "# Let's plot the data and the linear regression\n",
    "# The experimental data will be circles and the linear regression will be a line\n",
    "plt.plot(year, eutrophication, 'o', label=\"Experimental Data\", color='black')\n",
    "plt.plot(year, fitted_values, label=\"Linear Regression\", color='red')\n",
    "\n",
    "# Labeling the x and y axes\n",
    "plt.xlabel(\"Year\")\n",
    "plt.ylabel(\"Eutrophication (kg P eq)\")\n",
    "\n",
    "# Let's add a legend to identify the two lines\n",
    "plt.legend()\n",
    "\n",
    "# Let's show the plot\n",
    "plt.tight_layout()\n",
    "plt.show()"
   ]
  },
  {
   "cell_type": "markdown",
   "metadata": {},
   "source": [
    "# What is a Function?\n",
    "\n",
    "Functions are a powerful tool in Python, even if they seem complex at first. They are a block of reusable code that performs a specific task. Rather than writing the same code multiple times, you can \"call\" a function whenever you need to perform that task. This makes your code cleaner and more efficient.\n",
    "\n",
    "You *will not* need to know how to implement and use functions on your own for this course. **However** you should know the general structure and components of a function.\n",
    "\n",
    "Functions take inputs, perform operations, and return outputs. The general structure of a function is:"
   ]
  },
  {
   "cell_type": "code",
   "execution_count": null,
   "metadata": {},
   "outputs": [],
   "source": [
    "# Here is the basic structure of a function\n",
    "def function_name(inputs):\n",
    "    # Code block that performs some operations\n",
    "    # for example, squaring the input\n",
    "    output = inputs ** 2\n",
    "    return output"
   ]
  },
  {
   "cell_type": "markdown",
   "metadata": {},
   "source": [
    "## Example: Calculating Averages\n",
    "Let’s explore an example where functions come in handy: calculating the average of three numbers. We'll start with three diffrent lists with some numbers."
   ]
  },
  {
   "cell_type": "code",
   "execution_count": null,
   "metadata": {},
   "outputs": [],
   "source": [
    "# Make sure to run this cell!!\n",
    "# Here are a couple of lists with numbers\n",
    "list_1 = [1, 2, 3, 4, 5]\n",
    "list_2 = [6, 7, 8, 9, 10]\n",
    "list_3 = [11, 12, 13, 14, 15]"
   ]
  },
  {
   "cell_type": "markdown",
   "metadata": {},
   "source": [
    "We'll now manually calculate the average of each list. This is done by adding all the numbers in the list and then dividing by the number of items in the list (i.e. the \"length\" of the list)\n",
    "\n",
    "- Adding a list is done by using `sum(list_name)`\n",
    "- Finding the number of items is done by using `len(list_name)`"
   ]
  },
  {
   "cell_type": "code",
   "execution_count": null,
   "metadata": {},
   "outputs": [],
   "source": [
    "# Manually find the average of the lists\n",
    "average_list_1 = sum(list_1) / len(list_1)\n",
    "average_list_2 = sum(list_2) / len(list_2)\n",
    "average_list_3 = sum(list_3) / len(list_3)\n",
    "\n",
    "# print the averages\n",
    "print(f'Averages: {average_list_1}, {average_list_2}, {average_list_3}')"
   ]
  },
  {
   "cell_type": "markdown",
   "metadata": {},
   "source": [
    "Although this isn't too bad, it can get tedious if we have a large number of lists. Or, imagine if you had to do something more complicated than find the average. What we can do instead is define a function that calculates the average since the formula is the same for all of them!"
   ]
  },
  {
   "cell_type": "code",
   "execution_count": null,
   "metadata": {},
   "outputs": [],
   "source": [
    "# Let's make a function that calculates the average of a list\n",
    "# The input will be the list of numbers\n",
    "def average_list(input_list):\n",
    "    # The sum of the list divided by the length of the list\n",
    "    # This is the formula for the average\n",
    "    average = sum(input_list) / len(input_list)\n",
    "    # returning the output\n",
    "    # which is the average of the list\n",
    "    return average"
   ]
  },
  {
   "cell_type": "markdown",
   "metadata": {},
   "source": [
    "So now, when we want to calculate the average, all we have to do is call the function and store the output in a new variable!"
   ]
  },
  {
   "cell_type": "code",
   "execution_count": null,
   "metadata": {},
   "outputs": [],
   "source": [
    "# Calculate the averages of the lists using the function\n",
    "average_1 = average_list(list_1)\n",
    "average_2 = average_list(list_2)\n",
    "average_3 = average_list(list_3)\n",
    "\n",
    "# Print the averages\n",
    "print(f'Averages: {average_1}, {average_2}, {average_3}')"
   ]
  },
  {
   "cell_type": "markdown",
   "metadata": {},
   "source": [
    "**What you should know:**\n",
    "- A function takes in inputs\n",
    "- The function will perform calculations on the inputs and \"return\" an output\n",
    "- For this course: functions will be used to define specific formulae. You should know how to use your inputs to write the correct formula inside of a function!"
   ]
  },
  {
   "cell_type": "markdown",
   "metadata": {},
   "source": [
    "# Common Errors"
   ]
  },
  {
   "cell_type": "markdown",
   "metadata": {},
   "source": [
    "## Wrong filename or missing extension\n",
    "In one of the previous sections we used the \"emissions_data.xlsx\" file. Mow let's try loading in that file but without the \".xlsx\""
   ]
  },
  {
   "cell_type": "code",
   "execution_count": null,
   "metadata": {},
   "outputs": [],
   "source": [
    "import pandas as pd\n",
    "# Let's load in the emission data\n",
    "dataframe = pd.read_excel('emissions_data', engine='openpyxl')"
   ]
  },
  {
   "cell_type": "markdown",
   "metadata": {},
   "source": [
    "We get a `FileNotFoundError`! Therefore, when importing files make sure that your filenames are **exact** and always **include the file extension** *e.g.* .jpeg, .csv, etc."
   ]
  },
  {
   "cell_type": "markdown",
   "metadata": {},
   "source": [
    "## Arrays of different lengths\n",
    "So, what happens when we try to add two arrays that are *different lengths*?\n",
    "\n",
    "Run the cell below and see what happens"
   ]
  },
  {
   "cell_type": "code",
   "execution_count": null,
   "metadata": {},
   "outputs": [],
   "source": [
    "# Let's make two lists of different lengths\n",
    "list_1 = [1, 2, 3, 4, 5]\n",
    "list_2 = [6, 7, 8]\n",
    "\n",
    "# Now let's convert the lists to arrays\n",
    "array_1 = np.array(list_1)\n",
    "array_2 = np.array(list_2)\n",
    "\n",
    "# Now let's add the two arrays: what do you expect to happen?\n",
    "add_array = array_1 + array_2\n",
    "\n",
    "# Now let's print the added array\n",
    "print(add_array)"
   ]
  },
  {
   "cell_type": "markdown",
   "metadata": {},
   "source": [
    "Error message! What we'll focus on is this part:\n",
    "\n",
    "`ValueError: operands could not be broadcast together with shapes (5,) (3,)`\n",
    "\n",
    "This means that the addition could not be done since the lengths of the arrays are different.\n",
    "\n",
    "***Fix:*** Make sure arrays are the same length before any order of operations are performed."
   ]
  },
  {
   "cell_type": "markdown",
   "metadata": {},
   "source": [
    "## Wrong Column Name\n",
    "\n",
    "We'll use the same dataset we used above. Let's try to call the temperature column, but we'll do something slightly wrong and let's see what happens "
   ]
  },
  {
   "cell_type": "code",
   "execution_count": null,
   "metadata": {},
   "outputs": [],
   "source": [
    "# Calling the temperature column from the dataframe above\n",
    "print(dataframe[\"Temperature\"])"
   ]
  },
  {
   "cell_type": "markdown",
   "metadata": {},
   "source": [
    "We get a **Key Error**! \n",
    "\n",
    "`KeyError: 'Temperature'`\n",
    "\n",
    "This is because the heading is *Temperature (°C)* **not** *Temperature*. We need to be **exact** with our column headings when calling them."
   ]
  },
  {
   "cell_type": "markdown",
   "metadata": {},
   "source": [
    "## Wrong Syntax\n",
    "The most common issue is wrong syntax! This means that Python does not recognize the code that was written. For example, this can be due to an incomplete variable:"
   ]
  },
  {
   "cell_type": "code",
   "execution_count": null,
   "metadata": {},
   "outputs": [],
   "source": [
    "variable ="
   ]
  },
  {
   "cell_type": "markdown",
   "metadata": {},
   "source": [
    "It can also be due to missing a comma when writing list:"
   ]
  },
  {
   "cell_type": "code",
   "execution_count": null,
   "metadata": {},
   "outputs": [],
   "source": [
    "list = [1, 2 3]"
   ]
  },
  {
   "cell_type": "markdown",
   "metadata": {},
   "source": [
    "Make sure to follow instructions very clearly and you will not face any syntax errors!"
   ]
  }
 ],
 "metadata": {
  "kernelspec": {
   "display_name": "Python 3",
   "language": "python",
   "name": "python3"
  },
  "language_info": {
   "codemirror_mode": {
    "name": "ipython",
    "version": 3
   },
   "file_extension": ".py",
   "mimetype": "text/x-python",
   "name": "python",
   "nbconvert_exporter": "python",
   "pygments_lexer": "ipython3",
   "version": "3.13.0"
  }
 },
 "nbformat": 4,
 "nbformat_minor": 2
}
