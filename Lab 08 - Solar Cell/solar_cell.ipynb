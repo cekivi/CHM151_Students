{
 "cells": [
  {
   "cell_type": "markdown",
   "metadata": {},
   "source": [
    "# Solar Cells\n",
    "This notebook will help you complete the data analysis needed for the Solar Cell lab and is split into 4 parts (A-D):\n",
    "- A: Unit conversions\n",
    "- B: Create the P vs V plot\n",
    "- C: Do a parabolic fit\n",
    "- D: Find the maximum power\n",
    "\n",
    "It is *essential* to run each of the cells ***sequentially*** and make sure to read all instructions and comments carefully. Happy coding! \n",
    "\n",
    "This notebook is also **interactive**, and as such there are lines where you must write the code yourself to complete the tasks. Sections where you must write your own code are numbered and labelled with the heading:\n",
    "\n",
    "## Task #0:\n",
    "And detailed instructions for your coding task will be written below. These tasks are **in addition** to adding appropriate filenames where indicated.\n",
    "\n",
    "There are **six** tasks in this notebook.\n",
    "\n",
    "Please make sure to read **all** of the instructions and comments **very** carefully, this is essential in making sure your code runs smoothly and error-free.\n",
    "\n",
    "***Happy Coding!***"
   ]
  },
  {
   "cell_type": "markdown",
   "metadata": {},
   "source": [
    "## Part A: Unit Conversions\n",
    "\n",
    "## Task #1\n",
    "### Save your data in an excel sheet\n",
    "\n",
    "In the folder where this notebook is stored, you'll find a spreadsheet named **solar_cell_data.xlsx**. The spreadsheet has two columns labelled:\n",
    "- Voltage\n",
    "- Resistance\n",
    "\n",
    "**Please do not change the column names. This will cause the code to not run properly.**\n",
    "\n",
    "You will need to:\n",
    "\n",
    "1. Download the excel file\n",
    "2. Enter your data in the respective columns\n",
    "3. Save the file\n",
    "4. Reupload the file into the same folder. **Do not change the name of the file**\n",
    "5. Click \"overwrite\" when the dialog asks.\n",
    "\n",
    "We will now upload the data into python and plot it.\n",
    "\n",
    "### Load and view the data into python using `pandas`\n",
    "\n",
    "The data is uploaded using a python module known as `pandas` which will store the data in a *dataframe*. In the blocks below, we will go through how to load the data and view it as well."
   ]
  },
  {
   "cell_type": "code",
   "execution_count": null,
   "metadata": {},
   "outputs": [],
   "source": [
    "# First we need to load the python modules we need\n",
    "# This is just pandas for now\n",
    "import pandas as pd\n",
    "\n",
    "# Now we need to load the data using the pandas read_excel function\n",
    "# This function reads the data from an excel file and loads it into a pandas dataframe\n",
    "# This is called 'solar_cell_data' here\n",
    "solar_cell_data = pd.read_excel('solar_cell_data.xlsx', engine='openpyxl')\n",
    "\n",
    "# Print the first few rows of the dataframe to look at the data\n",
    "print(solar_cell_data.head())"
   ]
  },
  {
   "cell_type": "markdown",
   "metadata": {},
   "source": [
    "As we can see, the dataframe shows the same information as excel. Since it also preserves the column headings, we can use those to look at subsets of the data and call each column separately if necessary. This is important since we will need to do calculations using the stored values.\n",
    "\n",
    "The syntax to do this is as follows:\n",
    "1. First, write the name of the variable that represents the *dataframe*\n",
    "2. Add square brackets\n",
    "3. Add quotation marks inside the square brackets\n",
    "4. Inside the quotes, enter the *exact* name of the column\n",
    "\n",
    "So, for example, if I wanted to view just the *Voltage* I would use this code:"
   ]
  },
  {
   "cell_type": "code",
   "execution_count": null,
   "metadata": {},
   "outputs": [],
   "source": [
    "# Viewing only the Voltage column\n",
    "print(solar_cell_data['Voltage'])"
   ]
  },
  {
   "cell_type": "markdown",
   "metadata": {},
   "source": [
    "We can also view multiple columns at the same time by separating the column names with a comma:"
   ]
  },
  {
   "cell_type": "code",
   "execution_count": null,
   "metadata": {},
   "outputs": [],
   "source": [
    "# Let's view both the Voltage and the Resistance columns\n",
    "print(solar_cell_data[['Voltage', 'Resistance']])"
   ]
  },
  {
   "cell_type": "markdown",
   "metadata": {},
   "source": [
    "### Calculate the power\n",
    "\n",
    "We'll start by saving the the voltage and resistance in separate variables so it is easier to calculate the power. Run the code block below to do this."
   ]
  },
  {
   "cell_type": "code",
   "execution_count": null,
   "metadata": {},
   "outputs": [],
   "source": [
    "# import all the modules\n",
    "import numpy as np \n",
    "\n",
    "# We'll need the voltage so we can extract that\n",
    "voltage = solar_cell_data[\"Voltage\"]\n",
    "\n",
    "# We also need the resistance\n",
    "resistance = solar_cell_data[\"Resistance\"]\n",
    "\n",
    "# Let's print these to see what they look like\n",
    "print(voltage.head())\n",
    "print(resistance.head())"
   ]
  },
  {
   "cell_type": "markdown",
   "metadata": {},
   "source": [
    "## Task #2\n",
    "\n",
    "The power can be calculated by looking at the equation for electric power and using Ohm's law to substitute the current:\n",
    "\n",
    "$$P = IV = V^2/R$$\n",
    "\n",
    "- I added an *incomplete* variable for the power (labeled `power`). \n",
    "- On the *right* side of the equals sign, fill in the correct formula for the `power` using the variables for `voltage` and `resistance`. \n",
    "\n",
    "If you need to remember the syntax for operations in Python, they are in the **Tutorial** but as a reminder:\n",
    "- Adding: `+`\n",
    "- Subtracting: `-`\n",
    "- Multiplication: `*`\n",
    "- Division: `/`\n",
    "- Exponent: `**`\n",
    "- Parentheses: `()`"
   ]
  },
  {
   "cell_type": "code",
   "execution_count": null,
   "metadata": {},
   "outputs": [],
   "source": [
    "# Calculate the power using the voltage and resistance\n",
    "# Add the equation for power after the equals sign\n",
    "power = \n",
    "\n",
    "# Print the first few rows of the power to test\n",
    "print(power.head())"
   ]
  },
  {
   "cell_type": "markdown",
   "metadata": {},
   "source": [
    "## Part B: Create the P vs V plot\n",
    "### Plotting using `matplotlib`\n",
    "\n",
    "To create plots on python, we will be using a library called `matplotlib`, this is a very extensive library that can do a lot of powerful tasks. But we will only use some of is features for this course."
   ]
  },
  {
   "cell_type": "markdown",
   "metadata": {},
   "source": [
    "#### Creating a plot canvas\n",
    "The first thing we want to do when plotting is to make sure our plot is well formatted. To do this, we will create a *canvas*. Think of this like hitting the **scatter plot** button in Excel to create an empty plot. We'll then label our axes.\n",
    "  \n",
    "When you run this cell, you should see an empty plot with nicely formatted axes."
   ]
  },
  {
   "cell_type": "code",
   "execution_count": null,
   "metadata": {},
   "outputs": [],
   "source": [
    "# Import matplotlib for plotting\n",
    "import matplotlib.pyplot as plt\n",
    "\n",
    "# Create a canvas for the figure thats 8pt wide and 6pt tall\n",
    "plt.figure(figsize=(8, 6))\n",
    "\n",
    "# This labels the axis and also changes their fontsize\n",
    "plt.xlabel(\"Voltage\", fontsize=16)\n",
    "plt.ylabel(\"Power\", fontsize=16)\n",
    "\n",
    "# This changes the fontsize of the ticks on the axis\n",
    "plt.tick_params(labelsize=14)\n",
    "\n",
    "# This shows the plot\n",
    "plt.show()"
   ]
  },
  {
   "cell_type": "markdown",
   "metadata": {},
   "source": [
    "#### Adding data to the plot\n",
    "This is done by calling `plt.plot` and having the x and y data in parentheses. Therefore, the general format for adding data to a plot looks like this:  \n",
    "`plt.plot(x, y)`\n",
    "\n",
    "For example, if I wanted to plot Volatge vs Resistance in a plot it would look like this (line starting with `rv_plot,`):"
   ]
  },
  {
   "cell_type": "code",
   "execution_count": null,
   "metadata": {},
   "outputs": [],
   "source": [
    "# Import matplotlib for plotting\n",
    "import matplotlib.pyplot as plt\n",
    "\n",
    "# Create a canvas for the figure thats 8pt wide and 6pt tall\n",
    "plt.figure(figsize=(8, 6))\n",
    "\n",
    "# Adding data to the plot\n",
    "# I am doing voltage and resistance as an example\n",
    "rv_plot, = plt.plot(resistance, voltage)\n",
    "\n",
    "# This labels the axis and also changes their fontsize\n",
    "plt.xlabel(\"Resistance\", fontsize=16)\n",
    "plt.ylabel(\"Voltage\", fontsize=16)\n",
    "\n",
    "# This changes the fontsize of the ticks on the axis\n",
    "plt.tick_params(labelsize=14)\n",
    "\n",
    "# This shows the plot\n",
    "plt.show()"
   ]
  },
  {
   "cell_type": "markdown",
   "metadata": {},
   "source": [
    "## Task #3\n",
    "\n",
    "### Now it's your turn\n",
    "\n",
    "This task is in two parts:\n",
    "- Add the axis labels by replacing `X AXIS LABEL HERE` and `Y AXIS LABEL HERE` with your x and y-axis labels respectively. Make sure to add your labels *in-between the quotes*. And don't forget adding the **proper units**!!!\n",
    "- Replace the `x` and `y` in `pv_plot, = plt.plot(x, y, 'o', markersize=8, label='Data')` with the correct variables for your x and y data on the graph."
   ]
  },
  {
   "cell_type": "code",
   "execution_count": null,
   "metadata": {},
   "outputs": [],
   "source": [
    "# We need matplotlib for plotting the data\n",
    "import matplotlib.pyplot as plt\n",
    "\n",
    "# Create the plot canvas\n",
    "plt.figure(figsize=(8, 6))\n",
    "\n",
    "# Set the size of the ticks\n",
    "plt.tick_params(labelsize=14)\n",
    "\n",
    "# Label the axes\n",
    "# Replace 'X AXIS LABEL HERE' and 'Y AXIS LABEL HERE' with the correct labels\n",
    "# Include add your label in-between quotation marks\n",
    "# Also remember to include the units!\n",
    "plt.xlabel('X AXIS LABEL HERE', fontsize=16)\n",
    "plt.ylabel('Y AXIS LABEL HERE', fontsize=16)\n",
    "\n",
    "# Now to plot as a scatter plot\n",
    "# Replace 'x' and 'y' with the correct variables\n",
    "pv_plot, = plt.plot(x, y, 'o', markersize=8, label='Data')\n",
    "\n",
    "# Showing the plot\n",
    "plt.tight_layout()\n",
    "plt.show()"
   ]
  },
  {
   "cell_type": "markdown",
   "metadata": {},
   "source": [
    "## Part C: Do a parabolic fit\n",
    "\n",
    "#### Doing a non-linear fit using lmfit\n",
    "You'll notice that this is a *non-linear* fit, particularly a quadratic fit:\n",
    "\n",
    "$$y = ax^2 + bx + c$$\n",
    "\n",
    "We will use a library known as `lmfit` and use the `Model` class to do what's known as a *curve fit* for this.\n",
    "\n",
    "So we need to define a *function* that defines the equation that we're fitting, in our case it's the quadratic equation above.\n",
    "\n",
    "For the scope of this course, we will not go too in depth on functions. However, you should know that functions are a nice way to define numerical equations. Functions take in variables (inputs), perform calculations, and then *return* the output.\n",
    "\n",
    "Please refer to the python tutorial to learn more about the parts of a function."
   ]
  },
  {
   "cell_type": "code",
   "execution_count": null,
   "metadata": {},
   "outputs": [],
   "source": [
    "# Here we are importing the lmfit module we need\n",
    "!pip install lmfit\n",
    "from lmfit.models import Model\n",
    "\n",
    "# Now to define the polynomial\n",
    "# The inputs are the x values, and the coefficients a, b, and c\n",
    "# The output is the y values from the polynomial\n",
    "def polynomial(x, a, b, c):\n",
    "    # here we are calculating y = ax^2 + bx + c\n",
    "    y = a*x**2 + b*x + c\n",
    "    # return the y values\n",
    "    return y"
   ]
  },
  {
   "cell_type": "markdown",
   "metadata": {},
   "source": [
    "#### Creating a fit model\n",
    "\n",
    "We will create a variable for the Model of the fit, where we basically tell lmfit what function we want to fit and what our independent variable is. We then have to create the parameters of the fit, i.e. what values we are trying to obtain by fitting this function (`a`, `b`,  and `c`). Then, we have to add some guesses as to what we think the values *might* be, these guesses do not have to be close, just a starting point for the model."
   ]
  },
  {
   "cell_type": "markdown",
   "metadata": {},
   "source": [
    "## Task #4\n",
    "Replace the `INDEPENDENT VARIABLE HERE` with the correct independent variable in the experiment. This is a little tricky, I'm not asking for the independent variable from your experimental data, but rather what it's defined as in the `polynomial` function above.\n",
    "\n",
    "In other words, from the options below, which one is the independent variable for the polynomial fit equation?\n",
    "- x\n",
    "- a\n",
    "- b\n",
    "- c\n",
    "\n",
    "When you have the correct option, replace the text in between the quotes.\n",
    "\n",
    "So for example, if I think 'a' is the independent variable, my argument would read `independent_vars='a'`"
   ]
  },
  {
   "cell_type": "code",
   "execution_count": null,
   "metadata": {},
   "outputs": [],
   "source": [
    "# Now to create the model and store it as a variable\n",
    "# Replace 'INDEPENDENT VARIABLE HERE' with the correct variable\n",
    "# Keep the quotation marks!!!\n",
    "polyfit = Model(polynomial, independent_vars=\"INDEPENDENT VARIABLE HERE\")\n",
    "\n",
    "# Some initial guesses on the coefficeints: these do not have to be correct\n",
    "coeff = polyfit.make_params(a=1, b=1, c=1)"
   ]
  },
  {
   "cell_type": "markdown",
   "metadata": {},
   "source": [
    "#### Fit the data!\n",
    "We can now call our fitting model `polyfit` and obtain the regression results. You do not need to know the details of how this is done but for reference, each argument means:\n",
    "- `data` = the \"y\" variables, i.e. the power\n",
    "- `params` = the guesses for the parameters (our `pars` variable)\n",
    "- `method` = what fitting method we're using, in this course will only use `'leastsq'`\n",
    "- `x` = the independent variable (**Note:** this will change depending on what we define as our independent variable)\n",
    "- `scale_covar` = this makes sure the errors obtained are scaled correctly\n",
    "\n",
    "The total fit is stored in a variable labeled `result`.\n",
    "After fitting, we'll extrapolate the fitted coefficients, their errors, and the $r^2$ value."
   ]
  },
  {
   "cell_type": "code",
   "execution_count": null,
   "metadata": {},
   "outputs": [],
   "source": [
    "# Now to fit the data\n",
    "result = polyfit.fit(data=power, x=voltage, params=coeff, method='leastsq', nan_policy='propagate', scale_covar=True)\n",
    "\n",
    "# get the fitted coefficients\n",
    "a_fit = result.params['a'].value\n",
    "b_fit = result.params['b'].value\n",
    "c_fit = result.params['c'].value\n",
    "\n",
    "# And their errors\n",
    "a_err, b_err, c_err = np.sqrt(np.diag(result.covar))\n",
    "\n",
    "# Calculate the rsquared value\n",
    "r_squared = 1 - result.residual.var() / np.var(power)\n",
    "\n",
    "# Show that the fit is successfull and print the rsquared value\n",
    "print(f'Fit successful!\\nr^2 = {r_squared}')"
   ]
  },
  {
   "cell_type": "markdown",
   "metadata": {},
   "source": [
    "#### Find the fitted x and y-values for plotting\n",
    "\n",
    "Using the fitted coefficients, we can visualize the \"goodness of fit\" by plotting both the fitted data and the experimental data on the same plot.  \n",
    "\n",
    "To do this, we need to calculate the \"fitted y-values\" by using the calculated fitted coefficients. Additionally, we want to extrapolate the fit, so it spans a longer range than the measurements we took: this will help us better visualize how the two variables relate to each other and how our good fit is."
   ]
  },
  {
   "cell_type": "code",
   "execution_count": null,
   "metadata": {},
   "outputs": [],
   "source": [
    "# First we want to create a smooth curve to represent the fit\n",
    "# So we need to create a range of x values to plot the fit\n",
    "# This will range from minimum voltage - 10% of the min voltage to the maximum voltage + 20% of the max voltage\n",
    "voltage_fit = np.linspace(voltage.min()*0.90, voltage.max()*1.20, 1000)\n",
    "\n",
    "# Now to calculate the associated power values using the fitted coefficients\n",
    "power_fit = polynomial(x=voltage_fit, a=a_fit, b=b_fit, c=c_fit)"
   ]
  },
  {
   "cell_type": "markdown",
   "metadata": {},
   "source": [
    "### Plotting experimental & fitted data\n",
    "\n",
    "This is very similar to your previous Power vs Voltage plot, but this time you are also adding your fitted line!"
   ]
  },
  {
   "cell_type": "markdown",
   "metadata": {},
   "source": [
    "## Task #5\n",
    "There are three parts to this task:\n",
    "- Same as in Task #2, add the x and y-axis labels by replacing the `X/Y AXIS LABEL HERE` inside the quotes and add your units\n",
    "- For the *Experimental Data*: replace the `x` and `y` with the appropriate variable names for plotting\n",
    "- For the *Fitted Data*: replace the `y` with the appropriate variable names for plotting, I've already added the x variable as `voltage_fit`"
   ]
  },
  {
   "cell_type": "code",
   "execution_count": null,
   "metadata": {},
   "outputs": [],
   "source": [
    "# create the plot canvas\n",
    "plt.figure(figsize=(8, 6))\n",
    "\n",
    "# set the size of the ticks\n",
    "plt.tick_params(labelsize=14)\n",
    "\n",
    "# Label the axes\n",
    "# Replace 'X AXIS LABEL HERE' and 'Y AXIS LABEL HERE' with the correct labels\n",
    "# Include add your label in-between quotation marks\n",
    "# Also remember to include the units!\n",
    "plt.xlabel(\"X AXIS LABEL HERE\", fontsize=16)\n",
    "plt.ylabel(\"Y AXIS LABEL HERE\", fontsize=16)\n",
    "\n",
    "# Plotting our specific data\n",
    "\n",
    "# Plotting the experimental data as a scatter plot\n",
    "# The \"o\" argument tells matplotlib to plot the data points as circles\n",
    "# The markersize argument changes the size of the circles\n",
    "# The label argument is used to create a legend\n",
    "# The color argument changes the color of the data points\n",
    "\n",
    "# Replace the \"x\" and \"y\" with the correct variables: remember, variable names are not in quotes\n",
    "exp_pv_plot, = plt.plot(x, y, \"o\", markersize=8, label=\"Experimental Data\", color=\"red\")\n",
    "\n",
    "# Now we do the same for the fitted data but as a line\n",
    "# The \"-\" argument tells matplotlib to plot the data points as a line\n",
    "# everything else is the same, we do not need a markersize for a line\n",
    "\n",
    "# Replace the \"y\" with the correct variables: remember, variable names are NOT in quotes\n",
    "# I added the x variable as voltage_fit already\n",
    "# In the label, we are also adding the r_squared value\n",
    "fit_pv_plot, = plt.plot(voltage_fit, y, \"-\", label=f\"Fitted Data\\n$R^2$={r_squared:0.3g}\", color=\"black\")\n",
    "\n",
    "# Now we add the legend\n",
    "plt.legend(fontsize=16)\n",
    "\n",
    "# This makes sure that the plot is formatted correctly\n",
    "plt.tight_layout()\n",
    "\n",
    "plt.show()"
   ]
  },
  {
   "cell_type": "markdown",
   "metadata": {},
   "source": [
    "## Part D: Finding the Maximum Output\n",
    "\n",
    "Now we have to find the maximum output using some algebra. First we need to find the vertex, or turning point, $h$:\n",
    "\n",
    "$$h = -\\frac{b}{2a}$$\n",
    "\n",
    "This formula was found by solving for $x$ when $\\frac{\\mathrm{d}y}{\\mathrm{d}x} = 0$.\n",
    "\n",
    "Then we need to find $f(h)$, so the y-value at x=h. This can be done easily using the `polynomial` function that we defined above!"
   ]
  },
  {
   "cell_type": "markdown",
   "metadata": {},
   "source": [
    "## Task #6\n",
    "1. Write down the code to properly calculate `h`, the vertex, using the formula defined above. Fill in the code after `h=`\n",
    "    Remember, the `a` and `b` you need should be the *fitted parameters* a.k.a. `b_fit` and `a_fit`. Make sure to also add the correct parentheses and negative sign(s)!!\n",
    "2. Next, replace the `ADD YOUR UNITS HERE` with the appropriate unit of power and voltage (respectively) from your measurement"
   ]
  },
  {
   "cell_type": "code",
   "execution_count": null,
   "metadata": {},
   "outputs": [],
   "source": [
    "# Finding the vertex of the parabola using the formula above\n",
    "# Fill in the formula after the equals sign to find the vertex\n",
    "# Make sure to use the correct variable names: a_fit, b_fit, c_fit\n",
    "# And remember your order of operations!\n",
    "h =\n",
    "\n",
    "# now to find the maximum power which is the y value at the vertex\n",
    "# so instead of the whole voltage array we just use \"h\"\n",
    "max_power = polynomial(x=h, a=a_fit, b=b_fit, c=c_fit)\n",
    "\n",
    "# now to print the results with some fancy syntax\n",
    "# Replace the ADD YOUR UNITS HERE with the appropriate units from your measurement\n",
    "print(f'The maximum power is {max_power:.2f} ADD YOUR UNITS HERE at {h:.2f} ADD UNITS HERE of voltage')"
   ]
  },
  {
   "cell_type": "markdown",
   "metadata": {},
   "source": [
    "Check that this makes sense according to your graph!"
   ]
  }
 ],
 "metadata": {
  "kernelspec": {
   "display_name": "Python 3",
   "language": "python",
   "name": "python3"
  },
  "language_info": {
   "codemirror_mode": {
    "name": "ipython",
    "version": 3
   },
   "file_extension": ".py",
   "mimetype": "text/x-python",
   "name": "python",
   "nbconvert_exporter": "python",
   "pygments_lexer": "ipython3",
   "version": "3.12.1"
  }
 },
 "nbformat": 4,
 "nbformat_minor": 2
}
