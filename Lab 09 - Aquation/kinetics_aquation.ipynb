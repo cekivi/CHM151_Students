{
 "cells": [
  {
   "cell_type": "markdown",
   "metadata": {
    "slideshow": {
     "slide_type": "slide"
    }
   },
   "source": [
    "# Lab 8: Kinetics of Aquation\n",
    "This notebook will help you complete the data analysis required for the Kinetics of Aquation lab. It's split into 3 parts:\n",
    " - A. Load your data\n",
    " - B. Calculate absorbance constants\n",
    " - C. Find the rate constant\n",
    "\n",
    "Additionally, there are optional parts to:\n",
    "- D. Make the Arrhenius plot\n",
    "- E. Plot the absorbance data\n",
    "\n",
    "But the optional portions can be done on Excel. It is essential that ***all*** the cells in parts A-C ***are run sequentially*** or else your code ***will not work***.\n",
    "\n",
    "This notebook is also **interactive**, and as such there are lines where you must write the code yourself to complete the tasks. Sections where you must write your own code are numbered and labelled with the heading:\n",
    "\n",
    "## Task #0:\n",
    "\n",
    "And detailed instructions for your coding task will be written below. These tasks are **in addition** to adding appropriate filenames where indicated.\n",
    "\n",
    "There are **six** tasks in sections A-B and **three additional** tasks in the optional sections.\n",
    "\n",
    "Please make sure to read **all** of the instructions and comments **very** carefully, this is essential in making sure your code runs smoothly and error-free.\n",
    "\n",
    "***Happy coding!***"
   ]
  },
  {
   "cell_type": "markdown",
   "metadata": {},
   "source": [
    "## Part A: Load your data\n",
    "\n",
    "You should have the following data recorded in your notebook:\n",
    "- Reaction time\n",
    "- Absorbance at 450 nm\n",
    "- Absorbance at 508 nm\n",
    "\n",
    "## Task #1\n",
    "### Save your data in an excel sheet\n",
    "\n",
    "In the folder where this notebook is stored, you'll find a spreadsheet named \"kinetics_aquation_data_template.xlsx\". The spreadsheet has three columns labelled:\n",
    "\n",
    "- Time (s)\n",
    "- Absorbance 450nm\n",
    "- Absorbance 508nm\n",
    "\n",
    "**Please do not change the column names. This will cause the code to not run properly.**\n",
    "\n",
    "You will need to\n",
    "\n",
    "1. Download the excel file\n",
    "2. Enter your data in the respective columns\n",
    "3. Save the file\n",
    "4. Reupload the file into the same folder. **Do not change the name of the file**\n",
    "5. Click \"overwrite\" when the dialog asks.\n",
    "\n",
    "\n",
    "### Load and view the data into python using `pandas`\n",
    "\n",
    "This is the same as the previous lab: the data is uploaded using a python module known as `pandas` which will store the data in a *dataframe*. In the blocks below, you will get more practice viewing dataframes."
   ]
  },
  {
   "cell_type": "code",
   "execution_count": null,
   "metadata": {
    "slideshow": {
     "slide_type": "slide"
    }
   },
   "outputs": [],
   "source": [
    "# First we need to load the python modules we need\n",
    "# This is just pandas for now\n",
    "import pandas as pd\n",
    "\n",
    "# Now we need to load the data using the pandas read_excel function\n",
    "# This function reads the data from an excel file and loads it into a pandas dataframe\n",
    "# This is saved in a variable called absorbance_time_data\n",
    "absorbance_time_data = pd.read_excel(\"kinetics_aquation_data_template.xlsx\", engine='openpyxl')\n",
    "\n",
    "# now lets take a look at the data\n",
    "print(absorbance_time_data)"
   ]
  },
  {
   "cell_type": "markdown",
   "metadata": {
    "slideshow": {
     "slide_type": "slide"
    }
   },
   "source": [
    "As a reminder, to view a specific column in the dataframe we need to:\n",
    "1. First, write the name of the variable that represents the *dataframe*\n",
    "2. Next add square brackets\n",
    "3. Add quotation marks inside the square brackets\n",
    "4. Inside the quotes, enter the *exact* name of the column\n",
    "\n",
    "So, for example, if I wanted to view just the absorbance at 450 nm I would use this code:"
   ]
  },
  {
   "cell_type": "code",
   "execution_count": null,
   "metadata": {
    "slideshow": {
     "slide_type": "subslide"
    }
   },
   "outputs": [],
   "source": [
    "# Viewing only the absorbance at 450 nm\n",
    "# We have to make sure that the column name is exactly the same as in the excel file\n",
    "print(absorbance_time_data[\"Absorbance 450nm\"])"
   ]
  },
  {
   "cell_type": "markdown",
   "metadata": {},
   "source": [
    "And, we can also view multiple columns at the same time by separating the column names with a comma:"
   ]
  },
  {
   "cell_type": "code",
   "execution_count": null,
   "metadata": {},
   "outputs": [],
   "source": [
    "# Viewing both the time and the absorbance at 450 nm\n",
    "# Here we added an extra set of square brackets to specify that we want to view multiple columns\n",
    "# And separated the column names by a comma\n",
    "print(absorbance_time_data[[\"Time (s)\", \"Absorbance 450nm\"]])"
   ]
  },
  {
   "cell_type": "markdown",
   "metadata": {},
   "source": [
    "## Task #2:\n",
    "For practice, in the space below, fill in the code to view the *Time (s)* and *Absorbance 508nm* columns by adding the column names *in between* the quotes"
   ]
  },
  {
   "cell_type": "code",
   "execution_count": null,
   "metadata": {},
   "outputs": [],
   "source": [
    "# Viewing only the time and absorbance at 508 nm \n",
    "# Fill in the correct column names in between the quotes\n",
    "print(absorbance_time_data[[\"\", \"\"]])"
   ]
  },
  {
   "cell_type": "markdown",
   "metadata": {},
   "source": [
    "### Creating variables for each column\n",
    "\n",
    "Now that we're a little more familiarized with dataframes, we can move on to doing calculations with the loaded data. However, before doing this, it is very helpful to store the columns in separate variables since the syntax for calling a variable is much shorter.\n",
    "\n",
    "We will also convert the data into an *array* using the module `numpy`, this will make calculations easier.\n",
    "\n",
    "## Task #3\n",
    "\n",
    "**Write in the correct column headings in the empty quotes below**"
   ]
  },
  {
   "cell_type": "code",
   "execution_count": null,
   "metadata": {},
   "outputs": [],
   "source": [
    "# First let\"s import numpy\n",
    "import numpy as np\n",
    "\n",
    "# We\"ll store the columns as individual variables\n",
    "# We will also convert the data to numpy arrays\n",
    "time = np.array(absorbance_time_data[\"\"])\n",
    "abs_450 = np.array(absorbance_time_data[\"\"])\n",
    "abs_508 = np.array(absorbance_time_data[\"\"])\n",
    "\n",
    "# Print the variables to make sure they look correct\n",
    "print(time)\n",
    "print(abs_450)\n",
    "print(abs_508)"
   ]
  },
  {
   "cell_type": "markdown",
   "metadata": {},
   "source": [
    "## Part B: Calculate the absorbance constants\n",
    "\n",
    "Now we will run the calculations using the variables we set above.\n",
    "\n",
    "From the lab notebook we know that the formulae to find the initial and final absorbance of the dichloro species are:\n",
    "\n",
    "$$A_\\infty = \\frac{0.975 * A_{450}}{0.410}$$\n",
    "$$A_0 = \\frac{0.150 * A_{450}}{0.410}$$\n",
    "\n",
    "Using the formulae, we can track the instantaneous concentration of $[M-Cl]_t$ using the absorbance. This can be done using the following method:\n",
    "1. Find the average absorbance at the isosbestic point (450 nm)\n",
    "2. Calculate $A_\\infty$ and $A_0$ \n",
    "3. Calculate $A_\\infty - A_t$ and $A_\\infty - A_0$\n",
    "4. Calculate $\\ln \\frac{A_\\infty - A_t}{A_\\infty - A_0}$\n",
    "\n",
    "More explicit details on the calculations are outlined in the lab handout.\n",
    "\n",
    "## Task #4:\n",
    "I've added an *incomplete* variable for  $A_0$ (labelled `abs_0`). On the *right* side of the equals sign, fill in the correct formula. Make sure to use parentheses! As an example of the syntax (since this is more complicated), I've completed the variable for $A_\\infty$ (labelled `abs_infinity`) for you. If you need to remember the syntax for operations in Python:\n",
    "- Adding: `+`\n",
    "- Subtracting: `-`\n",
    "- Multiplication: `*`\n",
    "- Division: `/`\n",
    "- Exponent: `**`\n",
    "- Parentheses: `()`"
   ]
  },
  {
   "cell_type": "code",
   "execution_count": null,
   "metadata": {},
   "outputs": [],
   "source": [
    "# First find the average absorbance at 450 nm\n",
    "abs_450_avg = np.mean(abs_450)\n",
    "\n",
    "# Now find the maximum absorbance and minimum absorbance using the constants \n",
    "# given in the lab manual\n",
    "# I completed abs_infinity for you\n",
    "abs_infinity = (0.975 * abs_450_avg) / 0.410\n",
    "# Finish the line below to calculate abs_0\n",
    "abs_0 = \n",
    "\n",
    "# Since we know the reaction is first order, we can find the \"y-values\" for the \n",
    "# first order plot using the formula:\n",
    "n1 = np.log((abs_infinity - abs_508)/(abs_infinity - abs_0))\n",
    "\n",
    "# Print n_1 to make sure it looks correct\n",
    "print(n1)\n"
   ]
  },
  {
   "cell_type": "markdown",
   "metadata": {},
   "source": [
    "## Part C: Find the rate constant\n",
    "\n",
    "Now that we have the appropriate y-values, fit the data to the equation for a first order kinetic reaction using the formula:\n",
    "\n",
    "$$\\ln \\left( \\frac{A_\\infty - A_t}{A_\\infty - A_0} \\right) = -kt$$\n",
    "\n",
    "So, in order to find **k**, we need to perform a linear fit. "
   ]
  },
  {
   "cell_type": "markdown",
   "metadata": {},
   "source": [
    "### Fitting the data using a simple linear model\n",
    "This is similar to the fit we did in the Solar Cell lab, but we are using a different library here.\n",
    "\n",
    "To fit, we'll be using the python library `scipy.stats`, and its corresponding linear regression class known as `linregress`. To see a completed example of linear regression on Python, please refer to the Tutorial. This is basically the python equivalent of **linest** in Excel. It will automatically fit our data to a linear model:\n",
    "$$y = mx + c$$\n",
    "\n",
    "To actually fit this, all we need to do is to call the function `linregress` which takes in two arguments:\n",
    "- `x` = the independent variable\n",
    "- `y` = the dependent variable\n",
    "\n",
    "We will store the results of the fit as a variable `regression_results`"
   ]
  },
  {
   "cell_type": "markdown",
   "metadata": {},
   "source": [
    "## Task #5\n",
    "Identify the independent and dependent variable in your experiment (i.e. x and y). Next, find the appropriate variables from above which correspond to the independent and dependent variable. \n",
    "\n",
    "Finally, *complete* the *right-hand side* of the expressions inside the parentheses: `x=` and `y=` with the variables identified above.\n",
    "\n",
    "If the completed the task correctly, the cell should print out:\n",
    "\n",
    "**Regression Successful**"
   ]
  },
  {
   "cell_type": "code",
   "execution_count": null,
   "metadata": {},
   "outputs": [],
   "source": [
    "# Let's import the linregress function from scipy\n",
    "from scipy.stats import linregress\n",
    "\n",
    "# Now to perform the linear regression\n",
    "# This is stored in a variable called regression_results\n",
    "\n",
    "# Fill in the x and y values for the linear regression\n",
    "regression_results = linregress(x=, y=)\n",
    "\n",
    "print('Regression Successful')"
   ]
  },
  {
   "cell_type": "markdown",
   "metadata": {},
   "source": [
    "### Fit results\n",
    "For ease, we'll store the fitted slope, intercept, the errors, and the $r^2$ as variables, and then print the results. We will also do the same for the respective errors."
   ]
  },
  {
   "cell_type": "code",
   "execution_count": null,
   "metadata": {},
   "outputs": [],
   "source": [
    "# Here is the slope and y-intercept\n",
    "# n1 refers to the first order reaction\n",
    "slope_n1 = regression_results.slope\n",
    "intercept_n1 = regression_results.intercept\n",
    "\n",
    "# And the errors\n",
    "slope_n1_err = regression_results.stderr\n",
    "intercept_n1_err = regression_results.intercept_stderr\n",
    "\n",
    "# And the r-squared value\n",
    "r_squared_n1 = regression_results.rvalue**2\n",
    "\n",
    "# We'll first print the results\n",
    "# Printing the results\n",
    "print(f'Slope = {slope_n1} ± {slope_n1_err}')\n",
    "print(f'Intercept = {intercept_n1} ± {intercept_n1_err}')\n",
    "print(f'r^2 = {r_squared_n1}')"
   ]
  },
  {
   "cell_type": "markdown",
   "metadata": {},
   "source": [
    "### Find the fitted y-values for plotting\n",
    "\n",
    "Using the fitted slope and intercept, we can visualize the \"goodness of fit\" by plotting both the fitted data and the experimental data on the same plot. \n",
    "\n",
    "To do this, we need to calculate the \"fitted y-values\" by using the calculated slope and intercept. Additionally, we want to extrapolate the fit, so it spans a longer range than the measurements we took: this will help us better visualize how the two variables relate to each other and how our good fit is."
   ]
  },
  {
   "cell_type": "code",
   "execution_count": null,
   "metadata": {},
   "outputs": [],
   "source": [
    "import matplotlib.pyplot as plt\n",
    "\n",
    "# We'll first create some equally spaced time values so the fit is extended\n",
    "time_fit = np.linspace(time.min()*0.8, time.max()*1.2, 1000)\n",
    "\n",
    "# Now we'll calculate the y-values for the fit using the equation of a line\n",
    "n1_fit = slope_n1 * time_fit + intercept_n1"
   ]
  },
  {
   "cell_type": "markdown",
   "metadata": {},
   "source": [
    "## Task #6:\n",
    "You should have had practice with plotting by now! It is the same procedure as the previous lab, you have two things to do:\n",
    "- For the *Experimental Data*, replace the `x` and `y` with the appropriate variable names.\n",
    "- Do the same for the *Fitted Data*\n",
    "\n",
    "In other words, replace the `x` and `y` with the variable names you defined above in these lines:\n",
    "- `experimental_plot, = plt.plot(x, y, \"o\", markersize=8, label=\"Experimental Data\", color=\"red\")`\n",
    "- `fitted_plot, = plt.plot(x, y, \"-\", label=\"Fitted Data\", color=\"black\")`"
   ]
  },
  {
   "cell_type": "code",
   "execution_count": null,
   "metadata": {},
   "outputs": [],
   "source": [
    "# Now to plot\n",
    "# Creating the canvas, same as before \n",
    "plt.figure(figsize=(8, 6))\n",
    "\n",
    "# Changing the size of labels\n",
    "plt.tick_params(labelsize=14)\n",
    "\n",
    "# Add the axes labels and their sizes\n",
    "plt.xlabel(\"Time (s)\", fontsize=16)\n",
    "plt.ylabel(\"$ln(A_∞ - A_t)/(A_∞ - A_0)$\", fontsize=16)\n",
    "\n",
    "# Plotting our specific data\n",
    "\n",
    "# Plotting the experimental data as a scatter plot\n",
    "# The \"o\" argument tells matplotlib to plot the data points as circles\n",
    "# The markersize argument changes the size of the circles\n",
    "# The label argument is used to create a legend\n",
    "# The color argument changes the color of the data points\n",
    "\n",
    "# Replace the \"x\" and \"y\" with the correct variables: remember, variable names are not in quotes\n",
    "experimental_plot, = plt.plot(x, y, \"o\", markersize=8, label=\"Experimental Data\", color=\"red\")\n",
    "\n",
    "# Replace the \"x\" and \"y\" with the correct variables for the fitted line\n",
    "# Remember these are the fitted time and n1 values we calculated above\n",
    "# The \"-\" argument tells matplotlib to plot the data points as a line\n",
    "# everything else is the same, we do not need a markersize for a line\n",
    "fitted_plot, = plt.plot(x, y, \"-\", label=\"Fitted Data\", color=\"black\")\n",
    "\n",
    "# Additionally, we will add some text to the plot \n",
    "# to display the slope, intercept and r-squared value with their errors\n",
    "# *this is not required syntax for you to know, but it is very useful*\n",
    "plt.text(0.05, 0.05, \n",
    "         f\"m = {round(slope_n1, 5)} ± {round(slope_n1_err, 5)}\" + \n",
    "         f\"\\nc = {round(intercept_n1, 3)} ± {round(intercept_n1_err, 3)}\" +\n",
    "         f\"\\n$r^2$ = {r_squared_n1:0.4g}\",\n",
    "         ha=\"left\", va=\"bottom\", transform=plt.gca().transAxes, fontsize=16)\n",
    "\n",
    "# Now we add the legend\n",
    "plt.legend(fontsize=16)\n",
    "\n",
    "# This makes sure that the plot is formatted correctly\n",
    "plt.tight_layout()\n",
    "\n",
    "plt.show()"
   ]
  },
  {
   "cell_type": "markdown",
   "metadata": {},
   "source": [
    "## Part D (Optional): Arrhenius Plot\n",
    "## Task #7\n",
    "### Load the data in first\n",
    "The steps to do this is the same as before:\n",
    "\n",
    "In the folder where this notebook is stored, you'll find a spreadsheet named \"arrhenius_data_template.xlsx\".\n",
    "\n",
    "**Please do not change the column names. This will cause the code to not run properly.**\n",
    "\n",
    "You will need to\n",
    "\n",
    "1. Download the excel file\n",
    "2. Enter your data in the respective columns\n",
    "3. Save the file\n",
    "4. Reupload the file into the same folder. **Do not change the name of the file**\n",
    "5. Click \"overwrite\" when the dialog asks."
   ]
  },
  {
   "cell_type": "code",
   "execution_count": null,
   "metadata": {},
   "outputs": [],
   "source": [
    "import numpy as np\n",
    "import pandas as pd\n",
    "from scipy.stats import linregress\n",
    "\n",
    "# load the data after you have added your data to the excel file\n",
    "arrhenius_data = pd.read_excel(\"arrhenius_data_template.xlsx\", engine=\"openpyxl\")\n",
    "\n",
    "# Print the data to make sure it looks correct\n",
    "print(arrhenius_data)"
   ]
  },
  {
   "cell_type": "markdown",
   "metadata": {},
   "source": [
    "The Arrhenius equation is:\n",
    "\n",
    "$$k = A\\mathrm{e}^{-E_a/RT}$$\n",
    "\n",
    "If we take $\\ln$ of both sides we get a linear equation:\n",
    "\n",
    "$$\\ln k = \\frac{E_a}{R}\\frac{1}{T} + \\ln A$$\n",
    "\n",
    "So we can plot the temperature against the rate constants to get the activation energy."
   ]
  },
  {
   "cell_type": "code",
   "execution_count": null,
   "metadata": {},
   "outputs": [],
   "source": [
    "# extract columns and make everything into arrays\n",
    "temperature = np.asarray(arrhenius_data[\"Temperature (K)\"])\n",
    "k = np.asarray(arrhenius_data[\"Rate Constant\"])\n",
    "\n",
    "# this takes the inverse of the temperature\n",
    "temp_inv = 1/temperature\n",
    "\n",
    "# this is the ln of the rate constant\n",
    "ln_k = np.log(k)\n",
    "\n",
    "# now we can plot and do a linear regression\n",
    "result = linregress(x=temp_inv, y=ln_k)\n",
    "\n",
    "# slope and y-intercept with errors\n",
    "slope, slope_err = result.slope, result.stderr\n",
    "intercept, intercept_err = result.intercept, result.intercept_stderr\n",
    "\n",
    "print(f\"Slope = {slope} ± {slope_err}\")\n",
    "print(f\"Intercept = {intercept} ± {intercept_err}\")"
   ]
  },
  {
   "cell_type": "markdown",
   "metadata": {},
   "source": [
    "Now we will plot the results!\n",
    "\n",
    "## Task #8:\n",
    "Most of this code is pre-written, however, similarly to above, you will need to replace the `x` and `y` when plotting the *Experimental Data* **only** with the correct variables."
   ]
  },
  {
   "cell_type": "code",
   "execution_count": null,
   "metadata": {},
   "outputs": [],
   "source": [
    "import matplotlib.pyplot as plt\n",
    "\n",
    "# create the fit temp_inv and ln_k values\n",
    "temp_inv_fit = np.linspace(temp_inv.min(), temp_inv.max()*1.01, 1000)\n",
    "ln_k_fit = slope * temp_inv_fit + intercept\n",
    "\n",
    "# same as before we\"ll create a canvas\n",
    "plt.figure(figsize=(8, 6))\n",
    "\n",
    "# changing the size of labels\n",
    "plt.tick_params(labelsize=14)\n",
    "\n",
    "# axis labels\n",
    "plt.xlabel(\"1/T (K$^{-1}$)\", fontsize=16)\n",
    "plt.ylabel(\"ln(k)\", fontsize=16)\n",
    "\n",
    "# plot the data\n",
    "\n",
    "# This is the Experimental Data\n",
    "# Replace the \"x\" and \"y\" with the appropriate variables\n",
    "arrhenius_plot, = plt.plot(x, y, \"o\", markersize=8, label=\"Experimental Data\", color=\"red\")\n",
    "\n",
    "# This is the Fitted Data\n",
    "plt.plot(temp_inv_fit, ln_k_fit, \"-\", label=\"Fitted Data\", color=\"black\")\n",
    "\n",
    "plt.legend(fontsize=16)\n",
    "\n",
    "plt.tight_layout()\n",
    "plt.show()"
   ]
  },
  {
   "cell_type": "markdown",
   "metadata": {},
   "source": [
    "## Part E (Optional): Plotting the Absorbance Data"
   ]
  },
  {
   "cell_type": "markdown",
   "metadata": {},
   "source": [
    "We took a lot of very nice UV-VIS scans of the reaction at different time points. It's helpful to plot all the scans together, so we can visualize how the reaction proceeded.\n",
    "\n",
    "However, since we took 14 spectra, having a legend on the graph would not be visually appealing, and it'll be confusing to identify all plots! We can solve this by labelling our different datasets using a very nice colormap, this will help us track the reaction both visually and quantitatively.\n",
    "\n",
    "## Task #9:\n",
    "\n",
    "The coding for this is complicated! So all you will need to do is:\n",
    "1. Create a *list* of the time-points at which you took your data.\n",
    "2. Upload the data that **you saved directly from the spectrometer**\n",
    "3. Add the filename of that datafile by replacing `ADD YOUR FILENAME HERE` but make sure to keep the .csv and the quotes!"
   ]
  },
  {
   "cell_type": "code",
   "execution_count": null,
   "metadata": {},
   "outputs": [],
   "source": [
    "# In case you need to plot the UV-VIS Data: this is optional\n",
    "\n",
    "# Importing all the necessary modules\n",
    "import pandas as pd\n",
    "import seaborn as sns\n",
    "import matplotlib.pyplot as plt\n",
    "import matplotlib.colors as mcolors\n",
    "from cycler import cycler\n",
    "\n",
    "# ADD YOUR TIME POINTS HERE AS A LIST\n",
    "# So separate your time values with commas\n",
    "# For example if you have 5 time points at 0, 10, 20, 30, 40 seconds:\n",
    "# time_list = [0, 10, 20, 30, 40]\n",
    "time_list = []\n",
    "\n",
    "# Let's set a color palette\n",
    "# for fun you can change this to: \"viridis\", \"plasma\", \"inferno\", \"magma\", \"cividis\"\n",
    "# make sure to keep the quotes and add a \"_r\" at the end to reverse the color palette\n",
    "color = \"magma_r\"\n",
    "\n",
    "# Importing the data as a pandas dataframe: add your filename\n",
    "# make sure to keep the .csv at the end\n",
    "overlay_data = pd.read_csv(\"ADD YOUR FILENAME HERE.csv\", encoding=\"UTF-16 LE\", sep=\"\\t\")\n",
    "\n",
    "# You do not need to change anything below this line\n",
    "# -----------------------------------------------\n",
    "\n",
    "# Creating the plot canvas\n",
    "plt.figure(figsize=(8, 6))\n",
    "\n",
    "# now we can cycle the colors so each plot has a different color\n",
    "plt.gca().set_prop_cycle(cycler(color=sns.color_palette(color, len(time_list))))\n",
    "\n",
    "# setting the font size for the plot\n",
    "plt.tick_params(labelsize=14)\n",
    "\n",
    "# Plotting each sample, which are identified by the columns in the excel file\n",
    "# We'll skip the first column, which is the wavelength\n",
    "# This is a known as a for loop, which is used to iterate over a sequence\n",
    "for index, column in enumerate(overlay_data.columns):\n",
    "    if index > 0:\n",
    "        plt.plot(overlay_data[\"Wavelength(nm)\"], overlay_data[column])\n",
    "\n",
    "# Add a colorbar to indicate the time points\n",
    "norm = mcolors.Normalize(vmin=time_list[0], vmax=time_list[-1])\n",
    "cmap = sns.color_palette(color, as_cmap=True)\n",
    "sm = plt.cm.ScalarMappable(cmap=cmap, norm=norm)\n",
    "\n",
    "# Settings for the colorbar\n",
    "cbar = plt.colorbar(sm, ax=plt.gca())\n",
    "cbar.set_label(\"Time (s)\", fontsize=16)\n",
    "cbar.ax.tick_params(labelsize=14)\n",
    "cbar.ax.locator_params(nbins=6)\n",
    "\n",
    "# Label the axes\n",
    "plt.xlabel(\"Wavelength (nm)\", fontsize=16)\n",
    "plt.ylabel(\"Absorbance (a.u.)\", fontsize=16)\n",
    "\n",
    "plt.tight_layout()\n",
    "plt.show()"
   ]
  }
 ],
 "metadata": {
  "kernelspec": {
   "display_name": "Python 3",
   "language": "python",
   "name": "python3"
  },
  "language_info": {
   "codemirror_mode": {
    "name": "ipython",
    "version": 3
   },
   "file_extension": ".py",
   "mimetype": "text/x-python",
   "name": "python",
   "nbconvert_exporter": "python",
   "pygments_lexer": "ipython3",
   "version": "3.12.1"
  }
 },
 "nbformat": 4,
 "nbformat_minor": 2
}
